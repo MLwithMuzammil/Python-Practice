{
 "cells": [
  {
   "cell_type": "markdown",
   "id": "9d7aa9d1",
   "metadata": {},
   "source": [
    "31\n",
    "Dictionaries: Looping through values"
   ]
  },
  {
   "cell_type": "code",
   "execution_count": 1,
   "id": "7b2a1458",
   "metadata": {},
   "outputs": [],
   "source": [
    "idcard = {\"first name\": \"Muhammad\", \n",
    "         \"last name\": \"Muzammil\",\n",
    "         \"age\": 21,\n",
    "         \"city\": \"Karachi\"}"
   ]
  },
  {
   "cell_type": "code",
   "execution_count": 2,
   "id": "b3c480dd",
   "metadata": {},
   "outputs": [
    {
     "data": {
      "text/plain": [
       "{'first name': 'Muhammad',\n",
       " 'last name': 'Muzammil',\n",
       " 'age': 21,\n",
       " 'city': 'Karachi'}"
      ]
     },
     "execution_count": 2,
     "metadata": {},
     "output_type": "execute_result"
    }
   ],
   "source": [
    "idcard"
   ]
  },
  {
   "cell_type": "code",
   "execution_count": 4,
   "id": "27e414dd",
   "metadata": {},
   "outputs": [
    {
     "data": {
      "text/plain": [
       "dict"
      ]
     },
     "execution_count": 4,
     "metadata": {},
     "output_type": "execute_result"
    }
   ],
   "source": [
    "type(idcard)"
   ]
  },
  {
   "cell_type": "code",
   "execution_count": 5,
   "id": "ff06c92a",
   "metadata": {},
   "outputs": [
    {
     "data": {
      "text/plain": [
       "1846452245888"
      ]
     },
     "execution_count": 5,
     "metadata": {},
     "output_type": "execute_result"
    }
   ],
   "source": [
    "id(idcard)"
   ]
  },
  {
   "cell_type": "code",
   "execution_count": 7,
   "id": "3bb3838c",
   "metadata": {},
   "outputs": [
    {
     "name": "stdout",
     "output_type": "stream",
     "text": [
      "Muhammad\n",
      "Muzammil\n",
      "21\n",
      "Karachi\n"
     ]
    }
   ],
   "source": [
    "for each_value in idcard.values():\n",
    "    print(each_value)"
   ]
  },
  {
   "cell_type": "code",
   "execution_count": 10,
   "id": "a4e42eba",
   "metadata": {},
   "outputs": [
    {
     "name": "stdout",
     "output_type": "stream",
     "text": [
      "Muhammad\n",
      "Muzammil\n",
      "21\n",
      "Karachi\n"
     ]
    }
   ],
   "source": [
    "for each_key in idcard.values():# after for type any no/var\n",
    "    print(each_key)"
   ]
  },
  {
   "cell_type": "markdown",
   "id": "fdc01279",
   "metadata": {},
   "source": [
    "32\n",
    "Dictionaries: Looping through keys\n",
    "    "
   ]
  },
  {
   "cell_type": "code",
   "execution_count": 11,
   "id": "ef31792c",
   "metadata": {},
   "outputs": [
    {
     "name": "stdout",
     "output_type": "stream",
     "text": [
      "first name\n",
      "last name\n",
      "age\n",
      "city\n"
     ]
    }
   ],
   "source": [
    "for each_key in idcard.keys():\n",
    "    print(each_key)"
   ]
  },
  {
   "cell_type": "code",
   "execution_count": 15,
   "id": "7205251b",
   "metadata": {},
   "outputs": [
    {
     "name": "stdout",
     "output_type": "stream",
     "text": [
      "f\n",
      "i\n",
      "r\n",
      "s\n",
      "t\n",
      " \n",
      "n\n",
      "a\n",
      "m\n",
      "e\n"
     ]
    }
   ],
   "source": [
    "for each_key in idcard.fromkeys(\"first name\"):\n",
    "    print(each_key)"
   ]
  },
  {
   "cell_type": "code",
   "execution_count": 23,
   "id": "116dfb49",
   "metadata": {},
   "outputs": [
    {
     "name": "stdout",
     "output_type": "stream",
     "text": [
      "The customer's first name is Muhammad\n",
      "The customer's last name is Muzammil\n"
     ]
    },
    {
     "ename": "TypeError",
     "evalue": "can only concatenate str (not \"int\") to str",
     "output_type": "error",
     "traceback": [
      "\u001b[1;31m---------------------------------------------------------------------------\u001b[0m",
      "\u001b[1;31mTypeError\u001b[0m                                 Traceback (most recent call last)",
      "Cell \u001b[1;32mIn[23], line 2\u001b[0m\n\u001b[0;32m      1\u001b[0m \u001b[38;5;28;01mfor\u001b[39;00m each_key, each_value \u001b[38;5;129;01min\u001b[39;00m idcard\u001b[38;5;241m.\u001b[39mitems():\n\u001b[1;32m----> 2\u001b[0m        \u001b[38;5;28mprint\u001b[39m(\u001b[38;5;124m\"\u001b[39m\u001b[38;5;124mThe customer\u001b[39m\u001b[38;5;124m'\u001b[39m\u001b[38;5;124ms \u001b[39m\u001b[38;5;124m\"\u001b[39m \u001b[38;5;241m+\u001b[39m each_key \u001b[38;5;241m+\u001b[39m \u001b[38;5;124m\"\u001b[39m\u001b[38;5;124m is \u001b[39m\u001b[38;5;124m\"\u001b[39m \u001b[38;5;241m+\u001b[39m\n\u001b[0;32m      3\u001b[0m              each_value)\n",
      "\u001b[1;31mTypeError\u001b[0m: can only concatenate str (not \"int\") to str"
     ]
    }
   ],
   "source": [
    " for each_key, each_value in idcard.items():\n",
    "        print(\"The customer's \" + each_key + \" is \" +\n",
    "              each_value)"
   ]
  },
  {
   "cell_type": "code",
   "execution_count": 24,
   "id": "865e97f5",
   "metadata": {},
   "outputs": [],
   "source": [
    "idcard = {\"first name\": \"Muhammad\", \n",
    "         \"last name\": \"Muzammil\",\n",
    "         \"age\": \"21\",\n",
    "         \"city\": \"Karachi\"}"
   ]
  },
  {
   "cell_type": "code",
   "execution_count": 25,
   "id": "3a801ecd",
   "metadata": {},
   "outputs": [
    {
     "data": {
      "text/plain": [
       "{'first name': 'Muhammad',\n",
       " 'last name': 'Muzammil',\n",
       " 'age': '21',\n",
       " 'city': 'Karachi'}"
      ]
     },
     "execution_count": 25,
     "metadata": {},
     "output_type": "execute_result"
    }
   ],
   "source": [
    "idcard"
   ]
  },
  {
   "cell_type": "code",
   "execution_count": 26,
   "id": "eec7f4c8",
   "metadata": {},
   "outputs": [
    {
     "name": "stdout",
     "output_type": "stream",
     "text": [
      "The customer's first name is Muhammad\n",
      "The customer's last name is Muzammil\n",
      "The customer's age is 21\n",
      "The customer's city is Karachi\n"
     ]
    }
   ],
   "source": [
    " for each_key, each_value in idcard.items():\n",
    "        print(\"The customer's \" + each_key + \" is \" +\n",
    "              each_value)"
   ]
  },
  {
   "cell_type": "markdown",
   "id": "035cca6c",
   "metadata": {},
   "source": [
    "34\n",
    "Creating a list of dictionaries"
   ]
  },
  {
   "cell_type": "code",
   "execution_count": 36,
   "id": "7f07ddf4",
   "metadata": {},
   "outputs": [],
   "source": [
    "customers = [{\"id\": \"0\", \"first name\": \"Muhammad\",\n",
    "             \"last name\": \"Muzammil\", \"city\": \"Karachi\",},\n",
    "            {\"id\": \"0\", \"first name\": \"Muhammad\", \n",
    "             \"last name\": \"Umar\", \"city\": \"Lahore\",},\n",
    "            {\"id\": \"0\", \"first name\": \"Muhammad\",\n",
    "             \"last name\": \"Siddique\", \"city\": \"Karachi\",}]"
   ]
  },
  {
   "cell_type": "code",
   "execution_count": 37,
   "id": "98b98136",
   "metadata": {},
   "outputs": [
    {
     "data": {
      "text/plain": [
       "[{'id': '0',\n",
       "  'first name': 'Muhammad',\n",
       "  'last name': 'Muzammil',\n",
       "  'city': 'Karachi'},\n",
       " {'id': '0', 'first name': 'Muhammad', 'last name': 'Umar', 'city': 'Lahore'},\n",
       " {'id': '0',\n",
       "  'first name': 'Muhammad',\n",
       "  'last name': 'Siddique',\n",
       "  'city': 'Karachi'}]"
      ]
     },
     "execution_count": 37,
     "metadata": {},
     "output_type": "execute_result"
    }
   ],
   "source": [
    "customers"
   ]
  },
  {
   "cell_type": "code",
   "execution_count": 38,
   "id": "d81045da",
   "metadata": {},
   "outputs": [
    {
     "data": {
      "text/plain": [
       "list"
      ]
     },
     "execution_count": 38,
     "metadata": {},
     "output_type": "execute_result"
    }
   ],
   "source": [
    "type(customers)"
   ]
  },
  {
   "cell_type": "markdown",
   "id": "1cdc8bae",
   "metadata": {},
   "source": [
    "35\n",
    "How to pick information out of a list of\n",
    "dictionaries"
   ]
  },
  {
   "cell_type": "code",
   "execution_count": 39,
   "id": "392dab21",
   "metadata": {},
   "outputs": [
    {
     "data": {
      "text/plain": [
       "[{'id': '0',\n",
       "  'first name': 'Muhammad',\n",
       "  'last name': 'Muzammil',\n",
       "  'city': 'Karachi'},\n",
       " {'id': '0', 'first name': 'Muhammad', 'last name': 'Umar', 'city': 'Lahore'},\n",
       " {'id': '0',\n",
       "  'first name': 'Muhammad',\n",
       "  'last name': 'Siddique',\n",
       "  'city': 'Karachi'}]"
      ]
     },
     "execution_count": 39,
     "metadata": {},
     "output_type": "execute_result"
    }
   ],
   "source": [
    "customers"
   ]
  },
  {
   "cell_type": "code",
   "execution_count": 2,
   "id": "04382bd1",
   "metadata": {},
   "outputs": [],
   "source": [
    "customers = [{\"id\": \"0\", \"first name\": \"Muhammad\",\n",
    "             \"last name\": \"Muzammil\", \"city\": \"Karachi\",},\n",
    "            {\"id\": \"0\", \"first name\": \"Muhammad\", \n",
    "             \"last name\": \"Umar\", \"city\": \"Lahore\",},\n",
    "            {\"id\": \"0\", \"first name\": \"Muhammad\",\n",
    "             \"last name\": \"Siddique\", \"city\": \"Karachi\",}]"
   ]
  },
  {
   "cell_type": "code",
   "execution_count": 4,
   "id": "d11b2ebc",
   "metadata": {},
   "outputs": [
    {
     "data": {
      "text/plain": [
       "[{'id': '0',\n",
       "  'first name': 'Muhammad',\n",
       "  'last name': 'Muzammil',\n",
       "  'city': 'Karachi'},\n",
       " {'id': '0', 'first name': 'Muhammad', 'last name': 'Umar', 'city': 'Lahore'},\n",
       " {'id': '0',\n",
       "  'first name': 'Muhammad',\n",
       "  'last name': 'Siddique',\n",
       "  'city': 'Karachi'}]"
      ]
     },
     "execution_count": 4,
     "metadata": {},
     "output_type": "execute_result"
    }
   ],
   "source": [
    "customers"
   ]
  },
  {
   "cell_type": "code",
   "execution_count": 5,
   "id": "1299fd53",
   "metadata": {},
   "outputs": [],
   "source": [
    "dictionary_to_look_in = customers[1]"
   ]
  },
  {
   "cell_type": "code",
   "execution_count": 6,
   "id": "b21aa112",
   "metadata": {},
   "outputs": [
    {
     "data": {
      "text/plain": [
       "'Umar'"
      ]
     },
     "execution_count": 6,
     "metadata": {},
     "output_type": "execute_result"
    }
   ],
   "source": [
    "dictionary_to_look_in[\"last name\"]"
   ]
  },
  {
   "cell_type": "code",
   "execution_count": 7,
   "id": "76daa4b7",
   "metadata": {},
   "outputs": [
    {
     "data": {
      "text/plain": [
       "'Lahore'"
      ]
     },
     "execution_count": 7,
     "metadata": {},
     "output_type": "execute_result"
    }
   ],
   "source": [
    "dictionary_to_look_in[\"city\"]"
   ]
  },
  {
   "cell_type": "code",
   "execution_count": 8,
   "id": "846cdd14",
   "metadata": {},
   "outputs": [],
   "source": [
    "dictionary_to_look_in = customers[2]"
   ]
  },
  {
   "cell_type": "code",
   "execution_count": 9,
   "id": "7b61f7a6",
   "metadata": {},
   "outputs": [
    {
     "data": {
      "text/plain": [
       "'Siddique'"
      ]
     },
     "execution_count": 9,
     "metadata": {},
     "output_type": "execute_result"
    }
   ],
   "source": [
    "dictionary_to_look_in[\"last name\"]"
   ]
  },
  {
   "cell_type": "markdown",
   "id": "e8877307",
   "metadata": {},
   "source": [
    "36\n",
    "How to append a new dictionary to a\n",
    "list of dictionaries"
   ]
  },
  {
   "cell_type": "code",
   "execution_count": 10,
   "id": "0166764b",
   "metadata": {},
   "outputs": [
    {
     "data": {
      "text/plain": [
       "3"
      ]
     },
     "execution_count": 10,
     "metadata": {},
     "output_type": "execute_result"
    }
   ],
   "source": [
    "len(customers)"
   ]
  },
  {
   "cell_type": "code",
   "execution_count": 11,
   "id": "2174a42b",
   "metadata": {},
   "outputs": [],
   "source": [
    "new_dic = {\"id\": \"3\", \"first name\": \"Muhammad\",\n",
    "             \"last name\": \"Taha\", \"city\": \"Dubai\"}"
   ]
  },
  {
   "cell_type": "code",
   "execution_count": 12,
   "id": "8f7c8e2d",
   "metadata": {},
   "outputs": [
    {
     "data": {
      "text/plain": [
       "{'id': '3', 'first name': 'Muhammad', 'last name': 'Taha', 'city': 'Dubai'}"
      ]
     },
     "execution_count": 12,
     "metadata": {},
     "output_type": "execute_result"
    }
   ],
   "source": [
    "new_dic"
   ]
  },
  {
   "cell_type": "code",
   "execution_count": 13,
   "id": "a23d90d5",
   "metadata": {},
   "outputs": [],
   "source": [
    "customers.append(new_dic)"
   ]
  },
  {
   "cell_type": "code",
   "execution_count": 14,
   "id": "6576dac2",
   "metadata": {},
   "outputs": [
    {
     "data": {
      "text/plain": [
       "[{'id': '0',\n",
       "  'first name': 'Muhammad',\n",
       "  'last name': 'Muzammil',\n",
       "  'city': 'Karachi'},\n",
       " {'id': '0', 'first name': 'Muhammad', 'last name': 'Umar', 'city': 'Lahore'},\n",
       " {'id': '0',\n",
       "  'first name': 'Muhammad',\n",
       "  'last name': 'Siddique',\n",
       "  'city': 'Karachi'},\n",
       " {'id': '3', 'first name': 'Muhammad', 'last name': 'Taha', 'city': 'Dubai'}]"
      ]
     },
     "execution_count": 14,
     "metadata": {},
     "output_type": "execute_result"
    }
   ],
   "source": [
    "customers"
   ]
  },
  {
   "cell_type": "markdown",
   "id": "1c0ad8ce",
   "metadata": {},
   "source": [
    "37\n",
    "Creating a dictionary that contains lists"
   ]
  },
  {
   "cell_type": "code",
   "execution_count": 15,
   "id": "8d581930",
   "metadata": {},
   "outputs": [],
   "source": [
    "new_dic = {\"id\": \"3\", \"first name\": \"Muhammad\",\n",
    "             \"last name\": \"Taha\", \"city\": \"Dubai\",\n",
    "          \"discounts\": [\"standard\", \"volume\", \"loyalty\"]}"
   ]
  },
  {
   "cell_type": "code",
   "execution_count": 16,
   "id": "6e6c1785",
   "metadata": {},
   "outputs": [
    {
     "data": {
      "text/plain": [
       "[{'id': '0',\n",
       "  'first name': 'Muhammad',\n",
       "  'last name': 'Muzammil',\n",
       "  'city': 'Karachi'},\n",
       " {'id': '0', 'first name': 'Muhammad', 'last name': 'Umar', 'city': 'Lahore'},\n",
       " {'id': '0',\n",
       "  'first name': 'Muhammad',\n",
       "  'last name': 'Siddique',\n",
       "  'city': 'Karachi'},\n",
       " {'id': '3', 'first name': 'Muhammad', 'last name': 'Taha', 'city': 'Dubai'}]"
      ]
     },
     "execution_count": 16,
     "metadata": {},
     "output_type": "execute_result"
    }
   ],
   "source": [
    "customers"
   ]
  },
  {
   "cell_type": "code",
   "execution_count": 17,
   "id": "0c9b9759",
   "metadata": {},
   "outputs": [
    {
     "data": {
      "text/plain": [
       "{'id': '3',\n",
       " 'first name': 'Muhammad',\n",
       " 'last name': 'Taha',\n",
       " 'city': 'Dubai',\n",
       " 'discounts': ['standard', 'volume', 'loyalty']}"
      ]
     },
     "execution_count": 17,
     "metadata": {},
     "output_type": "execute_result"
    }
   ],
   "source": [
    "new_dic"
   ]
  },
  {
   "cell_type": "code",
   "execution_count": 18,
   "id": "d33a0adc",
   "metadata": {},
   "outputs": [
    {
     "data": {
      "text/plain": [
       "dict"
      ]
     },
     "execution_count": 18,
     "metadata": {},
     "output_type": "execute_result"
    }
   ],
   "source": [
    "type(new_dic)"
   ]
  },
  {
   "cell_type": "markdown",
   "id": "13be59c3",
   "metadata": {},
   "source": [
    "38\n",
    "How to get information out of a list\n",
    "within a dictionary"
   ]
  },
  {
   "cell_type": "code",
   "execution_count": 19,
   "id": "924f29de",
   "metadata": {},
   "outputs": [
    {
     "data": {
      "text/plain": [
       "{'id': '3',\n",
       " 'first name': 'Muhammad',\n",
       " 'last name': 'Taha',\n",
       " 'city': 'Dubai',\n",
       " 'discounts': ['standard', 'volume', 'loyalty']}"
      ]
     },
     "execution_count": 19,
     "metadata": {},
     "output_type": "execute_result"
    }
   ],
   "source": [
    "new_dic"
   ]
  },
  {
   "cell_type": "code",
   "execution_count": 25,
   "id": "7d066716",
   "metadata": {},
   "outputs": [
    {
     "name": "stdout",
     "output_type": "stream",
     "text": [
      "discount amount = 5\n",
      "discount amount = 10\n",
      "discount amount = 15\n"
     ]
    }
   ],
   "source": [
    "for d in new_dic[\"discounts\"]:\n",
    "    if d == \"brother-in-law\":\n",
    "        print(\"discount amount = 30%\")\n",
    "    elif d == \"loyalty\":\n",
    "        print(\"discount amount = 15\")\n",
    "    elif d == \"volume\":\n",
    "        print(\"discount amount = 10\")\n",
    "    elif d == \"standard\":\n",
    "        print(\"discount amount = 5\")"
   ]
  },
  {
   "cell_type": "code",
   "execution_count": 26,
   "id": "f16f0b60",
   "metadata": {},
   "outputs": [
    {
     "name": "stdout",
     "output_type": "stream",
     "text": [
      "discount_amount = .15\n"
     ]
    }
   ],
   "source": [
    "if \"brother-in-law\" in new_dic[\"discounts\"]:\n",
    "    print(\"discount_amount = .30\")\n",
    "elif \"loyalty\" in new_dic[\"discounts\"]:\n",
    "    print(\"discount_amount = .15\")\n",
    "elif \"volume\" in new_dic[\"discounts\"]:\n",
    "    print(\"discount_amount = .10\")"
   ]
  },
  {
   "cell_type": "code",
   "execution_count": null,
   "id": "315f3da8",
   "metadata": {},
   "outputs": [],
   "source": []
  }
 ],
 "metadata": {
  "kernelspec": {
   "display_name": "Python 3 (ipykernel)",
   "language": "python",
   "name": "python3"
  },
  "language_info": {
   "codemirror_mode": {
    "name": "ipython",
    "version": 3
   },
   "file_extension": ".py",
   "mimetype": "text/x-python",
   "name": "python",
   "nbconvert_exporter": "python",
   "pygments_lexer": "ipython3",
   "version": "3.11.5"
  }
 },
 "nbformat": 4,
 "nbformat_minor": 5
}
