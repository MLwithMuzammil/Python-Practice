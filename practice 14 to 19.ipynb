{
 "cells": [
  {
   "cell_type": "markdown",
   "id": "125bc76c",
   "metadata": {},
   "source": [
    "lists #15"
   ]
  },
  {
   "cell_type": "code",
   "execution_count": 1,
   "id": "2350860b",
   "metadata": {},
   "outputs": [],
   "source": [
    "city_0 = \"Atlanta\"\n",
    "city_1 = \"Baltimore\"\n",
    "city_2 = \"Chicago\"\n",
    "city_3 = \"Denver\"\n",
    "city_4 = \"Los Angeles\"\n",
    "city_5 = \"Seattle\""
   ]
  },
  {
   "cell_type": "code",
   "execution_count": 3,
   "id": "7cc85858",
   "metadata": {},
   "outputs": [
    {
     "name": "stdout",
     "output_type": "stream",
     "text": [
      "welcome to Denver\n"
     ]
    }
   ],
   "source": [
    "print(\"welcome to \" + city_3)"
   ]
  },
  {
   "cell_type": "code",
   "execution_count": 4,
   "id": "4103f620",
   "metadata": {},
   "outputs": [],
   "source": [
    "cities = [\"Atlanta\", \"Baltimore\", \"Chicago\", \"Denver\", \"Los Angeles\", \"Seattle\"]"
   ]
  },
  {
   "cell_type": "code",
   "execution_count": 5,
   "id": "13d8e875",
   "metadata": {},
   "outputs": [
    {
     "data": {
      "text/plain": [
       "['Atlanta', 'Baltimore', 'Chicago', 'Denver', 'Los Angeles', 'Seattle']"
      ]
     },
     "execution_count": 5,
     "metadata": {},
     "output_type": "execute_result"
    }
   ],
   "source": [
    "cities"
   ]
  },
  {
   "cell_type": "code",
   "execution_count": 6,
   "id": "c4e7221c",
   "metadata": {},
   "outputs": [],
   "source": [
    "mixed_things = [1, \"Bob\", \"Now is\"]"
   ]
  },
  {
   "cell_type": "code",
   "execution_count": 7,
   "id": "201aa3ab",
   "metadata": {},
   "outputs": [
    {
     "data": {
      "text/plain": [
       "[1, 'Bob', 'Now is']"
      ]
     },
     "execution_count": 7,
     "metadata": {},
     "output_type": "execute_result"
    }
   ],
   "source": [
    "mixed_things"
   ]
  },
  {
   "cell_type": "code",
   "execution_count": 9,
   "id": "31639dc5",
   "metadata": {},
   "outputs": [
    {
     "data": {
      "text/plain": [
       "[1, 'Bob', 'Now is']"
      ]
     },
     "execution_count": 9,
     "metadata": {},
     "output_type": "execute_result"
    }
   ],
   "source": [
    "mixed_things[:]"
   ]
  },
  {
   "cell_type": "code",
   "execution_count": 20,
   "id": "2ee778ee",
   "metadata": {},
   "outputs": [
    {
     "data": {
      "text/plain": [
       "'Bob'"
      ]
     },
     "execution_count": 20,
     "metadata": {},
     "output_type": "execute_result"
    }
   ],
   "source": [
    "mixed_things[1]"
   ]
  },
  {
   "cell_type": "markdown",
   "id": "e5c195a5",
   "metadata": {},
   "source": [
    "Lists: Adding and changing elements # 16"
   ]
  },
  {
   "cell_type": "code",
   "execution_count": 21,
   "id": "fa4f149c",
   "metadata": {},
   "outputs": [],
   "source": [
    "cities.append(\"newyork\")"
   ]
  },
  {
   "cell_type": "code",
   "execution_count": 22,
   "id": "2392a733",
   "metadata": {},
   "outputs": [
    {
     "data": {
      "text/plain": [
       "['Atlanta',\n",
       " 'Baltimore',\n",
       " 'Chicago',\n",
       " 'Denver',\n",
       " 'Los Angeles',\n",
       " 'Seattle',\n",
       " 'newyork']"
      ]
     },
     "execution_count": 22,
     "metadata": {},
     "output_type": "execute_result"
    }
   ],
   "source": [
    "cities"
   ]
  },
  {
   "cell_type": "code",
   "execution_count": 29,
   "id": "9d9ec6cc",
   "metadata": {},
   "outputs": [
    {
     "data": {
      "text/plain": [
       "'newyork'"
      ]
     },
     "execution_count": 29,
     "metadata": {},
     "output_type": "execute_result"
    }
   ],
   "source": [
    "cities.pop(6)"
   ]
  },
  {
   "cell_type": "code",
   "execution_count": 30,
   "id": "214da080",
   "metadata": {},
   "outputs": [
    {
     "data": {
      "text/plain": [
       "['Atlanta', 'Baltimore', 'Chicago', 'Denver', 'Los Angeles', 'Seattle']"
      ]
     },
     "execution_count": 30,
     "metadata": {},
     "output_type": "execute_result"
    }
   ],
   "source": [
    "cities"
   ]
  },
  {
   "cell_type": "code",
   "execution_count": 31,
   "id": "6fe50ee7",
   "metadata": {},
   "outputs": [
    {
     "data": {
      "text/plain": [
       "'Los Angeles'"
      ]
     },
     "execution_count": 31,
     "metadata": {},
     "output_type": "execute_result"
    }
   ],
   "source": [
    "cities[4]"
   ]
  },
  {
   "cell_type": "code",
   "execution_count": 32,
   "id": "9bf53c84",
   "metadata": {},
   "outputs": [],
   "source": [
    "cities.append(6)"
   ]
  },
  {
   "cell_type": "code",
   "execution_count": 33,
   "id": "e89d11cf",
   "metadata": {},
   "outputs": [
    {
     "data": {
      "text/plain": [
       "['Atlanta', 'Baltimore', 'Chicago', 'Denver', 'Los Angeles', 'Seattle', 6]"
      ]
     },
     "execution_count": 33,
     "metadata": {},
     "output_type": "execute_result"
    }
   ],
   "source": [
    "cities"
   ]
  },
  {
   "cell_type": "code",
   "execution_count": 34,
   "id": "f4b0f51c",
   "metadata": {},
   "outputs": [],
   "source": [
    "cities.append(\"34\")"
   ]
  },
  {
   "cell_type": "code",
   "execution_count": 35,
   "id": "d9c8e2a7",
   "metadata": {},
   "outputs": [
    {
     "data": {
      "text/plain": [
       "['Atlanta',\n",
       " 'Baltimore',\n",
       " 'Chicago',\n",
       " 'Denver',\n",
       " 'Los Angeles',\n",
       " 'Seattle',\n",
       " 6,\n",
       " '34']"
      ]
     },
     "execution_count": 35,
     "metadata": {},
     "output_type": "execute_result"
    }
   ],
   "source": [
    "cities"
   ]
  },
  {
   "cell_type": "code",
   "execution_count": 37,
   "id": "29dd4ace",
   "metadata": {},
   "outputs": [],
   "source": [
    "cities.append(\"karachi\")"
   ]
  },
  {
   "cell_type": "code",
   "execution_count": 38,
   "id": "268a45ca",
   "metadata": {},
   "outputs": [
    {
     "data": {
      "text/plain": [
       "['Atlanta',\n",
       " 'Baltimore',\n",
       " 'Chicago',\n",
       " 'Denver',\n",
       " 'Los Angeles',\n",
       " 'Seattle',\n",
       " 6,\n",
       " '34',\n",
       " 'karachi']"
      ]
     },
     "execution_count": 38,
     "metadata": {},
     "output_type": "execute_result"
    }
   ],
   "source": [
    "cities"
   ]
  },
  {
   "cell_type": "code",
   "execution_count": 43,
   "id": "b6f31a10",
   "metadata": {},
   "outputs": [],
   "source": [
    "cities.append(\"lahore\" \"uk\")"
   ]
  },
  {
   "cell_type": "code",
   "execution_count": 44,
   "id": "89703c36",
   "metadata": {},
   "outputs": [
    {
     "data": {
      "text/plain": [
       "['Atlanta',\n",
       " 'Baltimore',\n",
       " 'Chicago',\n",
       " 'Denver',\n",
       " 'Los Angeles',\n",
       " 'Seattle',\n",
       " 6,\n",
       " '34',\n",
       " 'karachi',\n",
       " 'lahoreuk',\n",
       " 'lahoreuk']"
      ]
     },
     "execution_count": 44,
     "metadata": {},
     "output_type": "execute_result"
    }
   ],
   "source": [
    "cities"
   ]
  },
  {
   "cell_type": "code",
   "execution_count": 46,
   "id": "650e1b72",
   "metadata": {},
   "outputs": [],
   "source": [
    "cities = cities + [\"Dubuque\", \"New Orleans\"]"
   ]
  },
  {
   "cell_type": "code",
   "execution_count": 47,
   "id": "8c55aa8e",
   "metadata": {},
   "outputs": [
    {
     "data": {
      "text/plain": [
       "['Atlanta',\n",
       " 'Baltimore',\n",
       " 'Chicago',\n",
       " 'Denver',\n",
       " 'Los Angeles',\n",
       " 'Seattle',\n",
       " 6,\n",
       " '34',\n",
       " 'karachi',\n",
       " 'lahoreuk',\n",
       " 'lahoreuk',\n",
       " 'Dubuque',\n",
       " 'New Orleans',\n",
       " 'Dubuque',\n",
       " 'New Orleans']"
      ]
     },
     "execution_count": 47,
     "metadata": {},
     "output_type": "execute_result"
    }
   ],
   "source": [
    "cities"
   ]
  },
  {
   "cell_type": "code",
   "execution_count": 48,
   "id": "242c41fe",
   "metadata": {},
   "outputs": [],
   "source": [
    "todays_tasks = []"
   ]
  },
  {
   "cell_type": "code",
   "execution_count": 50,
   "id": "d6549c7d",
   "metadata": {},
   "outputs": [],
   "source": [
    "todays_tasks = todays_tasks + [\"Walk dog\", \"Buy groceries\"]"
   ]
  },
  {
   "cell_type": "code",
   "execution_count": 51,
   "id": "02617277",
   "metadata": {},
   "outputs": [
    {
     "data": {
      "text/plain": [
       "['Walk dog', 'Buy groceries']"
      ]
     },
     "execution_count": 51,
     "metadata": {},
     "output_type": "execute_result"
    }
   ],
   "source": [
    "todays_tasks"
   ]
  },
  {
   "cell_type": "code",
   "execution_count": 53,
   "id": "638b9e29",
   "metadata": {},
   "outputs": [
    {
     "data": {
      "text/plain": [
       "['Walk dog', 'Buy groceries']"
      ]
     },
     "execution_count": 53,
     "metadata": {},
     "output_type": "execute_result"
    }
   ],
   "source": [
    "todays_tasks"
   ]
  },
  {
   "cell_type": "code",
   "execution_count": 54,
   "id": "99c4190f",
   "metadata": {},
   "outputs": [
    {
     "data": {
      "text/plain": [
       "['Atlanta',\n",
       " 'Baltimore',\n",
       " 'Chicago',\n",
       " 'Denver',\n",
       " 'Los Angeles',\n",
       " 'Seattle',\n",
       " 6,\n",
       " '34',\n",
       " 'karachi',\n",
       " 'lahoreuk',\n",
       " 'lahoreuk',\n",
       " 'Dubuque',\n",
       " 'New Orleans',\n",
       " 'Dubuque',\n",
       " 'New Orleans']"
      ]
     },
     "execution_count": 54,
     "metadata": {},
     "output_type": "execute_result"
    }
   ],
   "source": [
    "cities"
   ]
  },
  {
   "cell_type": "code",
   "execution_count": 55,
   "id": "bb21e621",
   "metadata": {},
   "outputs": [],
   "source": [
    "cities.insert(0, \"newyork\")"
   ]
  },
  {
   "cell_type": "code",
   "execution_count": 56,
   "id": "4d0098d5",
   "metadata": {},
   "outputs": [
    {
     "data": {
      "text/plain": [
       "['newyork',\n",
       " 'Atlanta',\n",
       " 'Baltimore',\n",
       " 'Chicago',\n",
       " 'Denver',\n",
       " 'Los Angeles',\n",
       " 'Seattle',\n",
       " 6,\n",
       " '34',\n",
       " 'karachi',\n",
       " 'lahoreuk',\n",
       " 'lahoreuk',\n",
       " 'Dubuque',\n",
       " 'New Orleans',\n",
       " 'Dubuque',\n",
       " 'New Orleans']"
      ]
     },
     "execution_count": 56,
     "metadata": {},
     "output_type": "execute_result"
    }
   ],
   "source": [
    "cities"
   ]
  },
  {
   "cell_type": "code",
   "execution_count": 59,
   "id": "b1573ff2",
   "metadata": {},
   "outputs": [
    {
     "data": {
      "text/plain": [
       "'Atlanta'"
      ]
     },
     "execution_count": 59,
     "metadata": {},
     "output_type": "execute_result"
    }
   ],
   "source": [
    "cities[1]"
   ]
  },
  {
   "cell_type": "code",
   "execution_count": 61,
   "id": "fba3f0e4",
   "metadata": {},
   "outputs": [
    {
     "data": {
      "text/plain": [
       "6"
      ]
     },
     "execution_count": 61,
     "metadata": {},
     "output_type": "execute_result"
    }
   ],
   "source": [
    " cities.pop(7)"
   ]
  },
  {
   "cell_type": "code",
   "execution_count": 62,
   "id": "7895f000",
   "metadata": {},
   "outputs": [
    {
     "data": {
      "text/plain": [
       "['newyork',\n",
       " 'Atlanta',\n",
       " 'Baltimore',\n",
       " 'Chicago',\n",
       " 'Denver',\n",
       " 'Los Angeles',\n",
       " 'Seattle',\n",
       " '34',\n",
       " 'karachi',\n",
       " 'lahoreuk',\n",
       " 'lahoreuk',\n",
       " 'Dubuque',\n",
       " 'New Orleans',\n",
       " 'Dubuque',\n",
       " 'New Orleans']"
      ]
     },
     "execution_count": 62,
     "metadata": {},
     "output_type": "execute_result"
    }
   ],
   "source": [
    "cities"
   ]
  },
  {
   "cell_type": "code",
   "execution_count": 63,
   "id": "b462cd14",
   "metadata": {},
   "outputs": [],
   "source": [
    "cities.insert(7,6)"
   ]
  },
  {
   "cell_type": "code",
   "execution_count": 64,
   "id": "cf791c63",
   "metadata": {},
   "outputs": [
    {
     "data": {
      "text/plain": [
       "['newyork',\n",
       " 'Atlanta',\n",
       " 'Baltimore',\n",
       " 'Chicago',\n",
       " 'Denver',\n",
       " 'Los Angeles',\n",
       " 'Seattle',\n",
       " 6,\n",
       " '34',\n",
       " 'karachi',\n",
       " 'lahoreuk',\n",
       " 'lahoreuk',\n",
       " 'Dubuque',\n",
       " 'New Orleans',\n",
       " 'Dubuque',\n",
       " 'New Orleans']"
      ]
     },
     "execution_count": 64,
     "metadata": {},
     "output_type": "execute_result"
    }
   ],
   "source": [
    "cities"
   ]
  },
  {
   "cell_type": "code",
   "execution_count": 65,
   "id": "bbb1d80e",
   "metadata": {},
   "outputs": [],
   "source": [
    "cities[1] = \"karachi\" # ffor replacement in list"
   ]
  },
  {
   "cell_type": "code",
   "execution_count": 66,
   "id": "99b5e08f",
   "metadata": {},
   "outputs": [
    {
     "data": {
      "text/plain": [
       "['newyork',\n",
       " 'karachi',\n",
       " 'Baltimore',\n",
       " 'Chicago',\n",
       " 'Denver',\n",
       " 'Los Angeles',\n",
       " 'Seattle',\n",
       " 6,\n",
       " '34',\n",
       " 'karachi',\n",
       " 'lahoreuk',\n",
       " 'lahoreuk',\n",
       " 'Dubuque',\n",
       " 'New Orleans',\n",
       " 'Dubuque',\n",
       " 'New Orleans']"
      ]
     },
     "execution_count": 66,
     "metadata": {},
     "output_type": "execute_result"
    }
   ],
   "source": [
    "cities"
   ]
  },
  {
   "cell_type": "markdown",
   "id": "a7eaca92",
   "metadata": {},
   "source": [
    "17\n",
    "Lists: Taking slices out of them"
   ]
  },
  {
   "cell_type": "code",
   "execution_count": 70,
   "id": "eb89909c",
   "metadata": {},
   "outputs": [],
   "source": [
    "sm_cities = cities[2:5]# 1 include last not"
   ]
  },
  {
   "cell_type": "code",
   "execution_count": 71,
   "id": "bff5b8df",
   "metadata": {},
   "outputs": [
    {
     "data": {
      "text/plain": [
       "['Baltimore', 'Chicago', 'Denver']"
      ]
     },
     "execution_count": 71,
     "metadata": {},
     "output_type": "execute_result"
    }
   ],
   "source": [
    "sm_cities"
   ]
  },
  {
   "cell_type": "code",
   "execution_count": 72,
   "id": "a8744959",
   "metadata": {},
   "outputs": [
    {
     "data": {
      "text/plain": [
       "['newyork',\n",
       " 'karachi',\n",
       " 'Baltimore',\n",
       " 'Chicago',\n",
       " 'Denver',\n",
       " 'Los Angeles',\n",
       " 'Seattle',\n",
       " 6,\n",
       " '34',\n",
       " 'karachi',\n",
       " 'lahoreuk',\n",
       " 'lahoreuk',\n",
       " 'Dubuque',\n",
       " 'New Orleans',\n",
       " 'Dubuque',\n",
       " 'New Orleans']"
      ]
     },
     "execution_count": 72,
     "metadata": {},
     "output_type": "execute_result"
    }
   ],
   "source": [
    "cities"
   ]
  },
  {
   "cell_type": "code",
   "execution_count": 73,
   "id": "cbe46d9c",
   "metadata": {},
   "outputs": [
    {
     "data": {
      "text/plain": [
       "['Baltimore', 'Chicago', 'Denver']"
      ]
     },
     "execution_count": 73,
     "metadata": {},
     "output_type": "execute_result"
    }
   ],
   "source": [
    "sm_cities"
   ]
  },
  {
   "cell_type": "code",
   "execution_count": 77,
   "id": "b3748a81",
   "metadata": {},
   "outputs": [],
   "source": [
    "sm_cities = sm_cities + cities[0:1]"
   ]
  },
  {
   "cell_type": "code",
   "execution_count": 76,
   "id": "0ae3d219",
   "metadata": {
    "scrolled": true
   },
   "outputs": [
    {
     "data": {
      "text/plain": [
       "['Baltimore',\n",
       " 'Chicago',\n",
       " 'Denver',\n",
       " 'newyork',\n",
       " 'karachi',\n",
       " 'Baltimore',\n",
       " 'Chicago',\n",
       " 'Denver',\n",
       " 'Los Angeles',\n",
       " 'Seattle',\n",
       " 6,\n",
       " '34',\n",
       " 'karachi',\n",
       " 'lahoreuk',\n",
       " 'lahoreuk',\n",
       " 'Dubuque',\n",
       " 'New Orleans',\n",
       " 'Dubuque',\n",
       " 'New Orleans']"
      ]
     },
     "execution_count": 76,
     "metadata": {},
     "output_type": "execute_result"
    }
   ],
   "source": [
    "sm_cities"
   ]
  },
  {
   "cell_type": "code",
   "execution_count": 78,
   "id": "0c385383",
   "metadata": {},
   "outputs": [],
   "source": [
    "sml_cities = sm_cities[0:4]"
   ]
  },
  {
   "cell_type": "code",
   "execution_count": 79,
   "id": "a232d013",
   "metadata": {},
   "outputs": [
    {
     "data": {
      "text/plain": [
       "['Baltimore', 'Chicago', 'Denver', 'newyork']"
      ]
     },
     "execution_count": 79,
     "metadata": {},
     "output_type": "execute_result"
    }
   ],
   "source": [
    "sml_cities"
   ]
  },
  {
   "cell_type": "code",
   "execution_count": 80,
   "id": "f55eb3ac",
   "metadata": {},
   "outputs": [
    {
     "data": {
      "text/plain": [
       "['Denver', 'newyork']"
      ]
     },
     "execution_count": 80,
     "metadata": {},
     "output_type": "execute_result"
    }
   ],
   "source": [
    "sml_cities[2:]"
   ]
  },
  {
   "cell_type": "code",
   "execution_count": null,
   "id": "5d0a4843",
   "metadata": {},
   "outputs": [],
   "source": []
  },
  {
   "cell_type": "code",
   "execution_count": 81,
   "id": "1ffd092c",
   "metadata": {},
   "outputs": [
    {
     "data": {
      "text/plain": [
       "'Denver'"
      ]
     },
     "execution_count": 81,
     "metadata": {},
     "output_type": "execute_result"
    }
   ],
   "source": [
    "sml_cities[2]"
   ]
  },
  {
   "cell_type": "markdown",
   "id": "61dd126d",
   "metadata": {},
   "source": [
    "18\n",
    "Lists: Deleting and removing elements"
   ]
  },
  {
   "cell_type": "code",
   "execution_count": 82,
   "id": "7b442768",
   "metadata": {},
   "outputs": [],
   "source": [
    "del cities[0:9]"
   ]
  },
  {
   "cell_type": "code",
   "execution_count": 83,
   "id": "a7b58bc1",
   "metadata": {},
   "outputs": [
    {
     "data": {
      "text/plain": [
       "['karachi',\n",
       " 'lahoreuk',\n",
       " 'lahoreuk',\n",
       " 'Dubuque',\n",
       " 'New Orleans',\n",
       " 'Dubuque',\n",
       " 'New Orleans']"
      ]
     },
     "execution_count": 83,
     "metadata": {},
     "output_type": "execute_result"
    }
   ],
   "source": [
    "cities"
   ]
  },
  {
   "cell_type": "code",
   "execution_count": 84,
   "id": "5df763d5",
   "metadata": {},
   "outputs": [],
   "source": [
    "del sm_cities[0:14]"
   ]
  },
  {
   "cell_type": "code",
   "execution_count": 85,
   "id": "3e690dcf",
   "metadata": {},
   "outputs": [
    {
     "data": {
      "text/plain": [
       "['lahoreuk', 'Dubuque', 'New Orleans', 'Dubuque', 'New Orleans', 'newyork']"
      ]
     },
     "execution_count": 85,
     "metadata": {},
     "output_type": "execute_result"
    }
   ],
   "source": [
    "sm_cities"
   ]
  },
  {
   "cell_type": "code",
   "execution_count": 86,
   "id": "b8749720",
   "metadata": {},
   "outputs": [],
   "source": [
    "sm_cities.remove(\"lahoreuk\")"
   ]
  },
  {
   "cell_type": "code",
   "execution_count": 87,
   "id": "fe19806f",
   "metadata": {},
   "outputs": [
    {
     "data": {
      "text/plain": [
       "['Dubuque', 'New Orleans', 'Dubuque', 'New Orleans', 'newyork']"
      ]
     },
     "execution_count": 87,
     "metadata": {},
     "output_type": "execute_result"
    }
   ],
   "source": [
    "sm_cities"
   ]
  },
  {
   "cell_type": "code",
   "execution_count": 89,
   "id": "8b87dad0",
   "metadata": {},
   "outputs": [],
   "source": [
    "sm_cities.remove(\"newyork\")"
   ]
  },
  {
   "cell_type": "code",
   "execution_count": 90,
   "id": "d52aea47",
   "metadata": {},
   "outputs": [
    {
     "data": {
      "text/plain": [
       "['Dubuque', 'New Orleans', 'Dubuque', 'New Orleans']"
      ]
     },
     "execution_count": 90,
     "metadata": {},
     "output_type": "execute_result"
    }
   ],
   "source": [
    "sm_cities"
   ]
  },
  {
   "cell_type": "code",
   "execution_count": 93,
   "id": "12540530",
   "metadata": {},
   "outputs": [],
   "source": [
    "del sm_cities[0]"
   ]
  },
  {
   "cell_type": "code",
   "execution_count": 94,
   "id": "9e8b41ea",
   "metadata": {},
   "outputs": [
    {
     "data": {
      "text/plain": [
       "['New Orleans', 'Dubuque', 'New Orleans']"
      ]
     },
     "execution_count": 94,
     "metadata": {},
     "output_type": "execute_result"
    }
   ],
   "source": [
    "sm_cities"
   ]
  },
  {
   "cell_type": "markdown",
   "id": "b1c3c5b7",
   "metadata": {},
   "source": [
    "19\n",
    "Lists: popping elements"
   ]
  },
  {
   "cell_type": "code",
   "execution_count": 95,
   "id": "6f9c6aab",
   "metadata": {},
   "outputs": [],
   "source": [
    "tasks = [\"email Frank\", \"call Sarah\", \"meet with Zach\"]"
   ]
  },
  {
   "cell_type": "code",
   "execution_count": 96,
   "id": "500109f6",
   "metadata": {},
   "outputs": [],
   "source": [
    "latest_task_accomplished = tasks.pop(1)"
   ]
  },
  {
   "cell_type": "code",
   "execution_count": 97,
   "id": "a3c208e8",
   "metadata": {},
   "outputs": [
    {
     "data": {
      "text/plain": [
       "['email Frank', 'meet with Zach']"
      ]
     },
     "execution_count": 97,
     "metadata": {},
     "output_type": "execute_result"
    }
   ],
   "source": [
    "tasks"
   ]
  },
  {
   "cell_type": "code",
   "execution_count": 98,
   "id": "f5dfc408",
   "metadata": {},
   "outputs": [
    {
     "data": {
      "text/plain": [
       "'call Sarah'"
      ]
     },
     "execution_count": 98,
     "metadata": {},
     "output_type": "execute_result"
    }
   ],
   "source": [
    "latest_task_accomplished"
   ]
  },
  {
   "cell_type": "code",
   "execution_count": 99,
   "id": "f3d9938e",
   "metadata": {},
   "outputs": [],
   "source": [
    "tasks.append(latest_task_accomplished)"
   ]
  },
  {
   "cell_type": "code",
   "execution_count": 100,
   "id": "b1efa4b7",
   "metadata": {},
   "outputs": [
    {
     "data": {
      "text/plain": [
       "['email Frank', 'meet with Zach', 'call Sarah']"
      ]
     },
     "execution_count": 100,
     "metadata": {},
     "output_type": "execute_result"
    }
   ],
   "source": [
    "tasks"
   ]
  },
  {
   "cell_type": "code",
   "execution_count": 102,
   "id": "28f968d1",
   "metadata": {},
   "outputs": [],
   "source": [
    "tasks.insert(1,\"latest_task_accomplished\")"
   ]
  },
  {
   "cell_type": "code",
   "execution_count": 103,
   "id": "95d8fa97",
   "metadata": {},
   "outputs": [
    {
     "data": {
      "text/plain": [
       "['email Frank', 'latest_task_accomplished', 'meet with Zach', 'call Sarah']"
      ]
     },
     "execution_count": 103,
     "metadata": {},
     "output_type": "execute_result"
    }
   ],
   "source": [
    "tasks"
   ]
  },
  {
   "cell_type": "code",
   "execution_count": 104,
   "id": "5e402e99",
   "metadata": {},
   "outputs": [],
   "source": [
    "del tasks[1]"
   ]
  },
  {
   "cell_type": "code",
   "execution_count": 105,
   "id": "9283c441",
   "metadata": {},
   "outputs": [
    {
     "data": {
      "text/plain": [
       "['email Frank', 'meet with Zach', 'call Sarah']"
      ]
     },
     "execution_count": 105,
     "metadata": {},
     "output_type": "execute_result"
    }
   ],
   "source": [
    "tasks"
   ]
  },
  {
   "cell_type": "code",
   "execution_count": 106,
   "id": "ecb5cd3c",
   "metadata": {},
   "outputs": [],
   "source": [
    "tasks.insert(1,latest_task_accomplished)"
   ]
  },
  {
   "cell_type": "code",
   "execution_count": 107,
   "id": "381c7a90",
   "metadata": {},
   "outputs": [
    {
     "data": {
      "text/plain": [
       "['email Frank', 'call Sarah', 'meet with Zach', 'call Sarah']"
      ]
     },
     "execution_count": 107,
     "metadata": {},
     "output_type": "execute_result"
    }
   ],
   "source": [
    "tasks"
   ]
  },
  {
   "cell_type": "code",
   "execution_count": 113,
   "id": "874e04fd",
   "metadata": {},
   "outputs": [],
   "source": [
    "tasks.remove(\"email Frank\")"
   ]
  },
  {
   "cell_type": "code",
   "execution_count": 114,
   "id": "5ec09fa3",
   "metadata": {},
   "outputs": [
    {
     "data": {
      "text/plain": [
       "['call Sarah', 'meet with Zach', 'call Sarah']"
      ]
     },
     "execution_count": 114,
     "metadata": {},
     "output_type": "execute_result"
    }
   ],
   "source": [
    "tasks"
   ]
  },
  {
   "cell_type": "code",
   "execution_count": 2,
   "id": "76a60a86",
   "metadata": {},
   "outputs": [
    {
     "data": {
      "text/plain": [
       "'hello world'"
      ]
     },
     "execution_count": 2,
     "metadata": {},
     "output_type": "execute_result"
    }
   ],
   "source": [
    "\"hello world\""
   ]
  },
  {
   "cell_type": "code",
   "execution_count": 3,
   "id": "8f9b9b4d",
   "metadata": {},
   "outputs": [],
   "source": [
    "tasks = [\"email Frank\", \"call Sarah\", \"meet with Zach\"]"
   ]
  },
  {
   "cell_type": "code",
   "execution_count": 6,
   "id": "bca36403",
   "metadata": {},
   "outputs": [
    {
     "data": {
      "text/plain": [
       "['email Frank', 'call Sarah', 'meet with Zach']"
      ]
     },
     "execution_count": 6,
     "metadata": {},
     "output_type": "execute_result"
    }
   ],
   "source": [
    "tasks"
   ]
  },
  {
   "cell_type": "code",
   "execution_count": 8,
   "id": "94cd5954",
   "metadata": {},
   "outputs": [
    {
     "data": {
      "text/plain": [
       "1"
      ]
     },
     "execution_count": 8,
     "metadata": {},
     "output_type": "execute_result"
    }
   ],
   "source": [
    "tasks.count(\"call Sarah\")"
   ]
  },
  {
   "cell_type": "code",
   "execution_count": 10,
   "id": "84ca15f5",
   "metadata": {},
   "outputs": [
    {
     "data": {
      "text/plain": [
       "['email Frank', 'call Sarah', 'meet with Zach']"
      ]
     },
     "execution_count": 10,
     "metadata": {},
     "output_type": "execute_result"
    }
   ],
   "source": [
    "tasks.copy()"
   ]
  },
  {
   "cell_type": "code",
   "execution_count": 12,
   "id": "98b9ca87",
   "metadata": {},
   "outputs": [],
   "source": [
    "tasks.remove(\"call Sarah\")"
   ]
  },
  {
   "cell_type": "code",
   "execution_count": 13,
   "id": "35735b2c",
   "metadata": {},
   "outputs": [
    {
     "data": {
      "text/plain": [
       "['meet with Zach', 'email Frank']"
      ]
     },
     "execution_count": 13,
     "metadata": {},
     "output_type": "execute_result"
    }
   ],
   "source": [
    "tasks"
   ]
  },
  {
   "cell_type": "code",
   "execution_count": 14,
   "id": "26235105",
   "metadata": {},
   "outputs": [],
   "source": [
    "tasks.reverse()"
   ]
  },
  {
   "cell_type": "code",
   "execution_count": 15,
   "id": "e1cf1bd1",
   "metadata": {},
   "outputs": [
    {
     "data": {
      "text/plain": [
       "['email Frank', 'meet with Zach']"
      ]
     },
     "execution_count": 15,
     "metadata": {},
     "output_type": "execute_result"
    }
   ],
   "source": [
    "tasks"
   ]
  },
  {
   "cell_type": "code",
   "execution_count": 18,
   "id": "21b46176",
   "metadata": {},
   "outputs": [
    {
     "data": {
      "text/plain": [
       "<function list.reverse()>"
      ]
     },
     "execution_count": 18,
     "metadata": {},
     "output_type": "execute_result"
    }
   ],
   "source": [
    "tasks.reverse"
   ]
  },
  {
   "cell_type": "code",
   "execution_count": 19,
   "id": "448cedf5",
   "metadata": {},
   "outputs": [],
   "source": [
    "tasks.append(\"call sarah\")"
   ]
  },
  {
   "cell_type": "code",
   "execution_count": 20,
   "id": "480ce5ad",
   "metadata": {},
   "outputs": [
    {
     "data": {
      "text/plain": [
       "['email Frank', 'meet with Zach', 'call sarah']"
      ]
     },
     "execution_count": 20,
     "metadata": {},
     "output_type": "execute_result"
    }
   ],
   "source": [
    "tasks"
   ]
  },
  {
   "cell_type": "code",
   "execution_count": 22,
   "id": "f24cd4df",
   "metadata": {},
   "outputs": [],
   "source": [
    "tasks.clear()"
   ]
  },
  {
   "cell_type": "code",
   "execution_count": 23,
   "id": "74feefad",
   "metadata": {},
   "outputs": [
    {
     "data": {
      "text/plain": [
       "[]"
      ]
     },
     "execution_count": 23,
     "metadata": {},
     "output_type": "execute_result"
    }
   ],
   "source": [
    "tasks"
   ]
  },
  {
   "cell_type": "code",
   "execution_count": 24,
   "id": "4fbf0b76",
   "metadata": {},
   "outputs": [],
   "source": [
    "tasks = [\"email Frank\", \"call Sarah\", \"meet with Zach\"]"
   ]
  },
  {
   "cell_type": "code",
   "execution_count": 25,
   "id": "106799ff",
   "metadata": {},
   "outputs": [
    {
     "data": {
      "text/plain": [
       "['email Frank', 'call Sarah', 'meet with Zach']"
      ]
     },
     "execution_count": 25,
     "metadata": {},
     "output_type": "execute_result"
    }
   ],
   "source": [
    "tasks"
   ]
  },
  {
   "cell_type": "code",
   "execution_count": 27,
   "id": "fc416b92",
   "metadata": {},
   "outputs": [],
   "source": [
    "tasks.extend(\"call Sarah\")"
   ]
  },
  {
   "cell_type": "code",
   "execution_count": 28,
   "id": "a1f25278",
   "metadata": {},
   "outputs": [
    {
     "data": {
      "text/plain": [
       "['email Frank',\n",
       " 'call Sarah',\n",
       " 'meet with Zach',\n",
       " 'c',\n",
       " 'a',\n",
       " 'l',\n",
       " 'l',\n",
       " ' ',\n",
       " 'S',\n",
       " 'a',\n",
       " 'r',\n",
       " 'a',\n",
       " 'h']"
      ]
     },
     "execution_count": 28,
     "metadata": {},
     "output_type": "execute_result"
    }
   ],
   "source": [
    "tasks"
   ]
  },
  {
   "cell_type": "code",
   "execution_count": 31,
   "id": "e84e72c3",
   "metadata": {},
   "outputs": [
    {
     "data": {
      "text/plain": [
       "8"
      ]
     },
     "execution_count": 31,
     "metadata": {},
     "output_type": "execute_result"
    }
   ],
   "source": [
    "tasks.index('S')"
   ]
  },
  {
   "cell_type": "code",
   "execution_count": 32,
   "id": "d62a398b",
   "metadata": {},
   "outputs": [
    {
     "data": {
      "text/plain": [
       "3"
      ]
     },
     "execution_count": 32,
     "metadata": {},
     "output_type": "execute_result"
    }
   ],
   "source": [
    "tasks.count(\"a\")"
   ]
  },
  {
   "cell_type": "code",
   "execution_count": 33,
   "id": "794a9b6f",
   "metadata": {},
   "outputs": [],
   "source": [
    "tasks.reverse()"
   ]
  },
  {
   "cell_type": "code",
   "execution_count": 34,
   "id": "f8a60f11",
   "metadata": {},
   "outputs": [
    {
     "data": {
      "text/plain": [
       "['h',\n",
       " 'a',\n",
       " 'r',\n",
       " 'a',\n",
       " 'S',\n",
       " ' ',\n",
       " 'l',\n",
       " 'l',\n",
       " 'a',\n",
       " 'c',\n",
       " 'meet with Zach',\n",
       " 'call Sarah',\n",
       " 'email Frank']"
      ]
     },
     "execution_count": 34,
     "metadata": {},
     "output_type": "execute_result"
    }
   ],
   "source": [
    "tasks"
   ]
  },
  {
   "cell_type": "code",
   "execution_count": 36,
   "id": "b6b7abb0",
   "metadata": {},
   "outputs": [],
   "source": [
    "tasks.reverse()"
   ]
  },
  {
   "cell_type": "code",
   "execution_count": 38,
   "id": "5989353d",
   "metadata": {},
   "outputs": [
    {
     "data": {
      "text/plain": [
       "['email Frank',\n",
       " 'call Sarah',\n",
       " 'meet with Zach',\n",
       " 'c',\n",
       " 'a',\n",
       " 'l',\n",
       " 'l',\n",
       " ' ',\n",
       " 'S',\n",
       " 'a',\n",
       " 'r',\n",
       " 'a',\n",
       " 'h']"
      ]
     },
     "execution_count": 38,
     "metadata": {},
     "output_type": "execute_result"
    }
   ],
   "source": [
    "tasks"
   ]
  },
  {
   "cell_type": "code",
   "execution_count": 39,
   "id": "f270e964",
   "metadata": {},
   "outputs": [],
   "source": [
    "tasks.sort()"
   ]
  },
  {
   "cell_type": "code",
   "execution_count": 40,
   "id": "c757f824",
   "metadata": {},
   "outputs": [
    {
     "data": {
      "text/plain": [
       "[' ',\n",
       " 'S',\n",
       " 'a',\n",
       " 'a',\n",
       " 'a',\n",
       " 'c',\n",
       " 'call Sarah',\n",
       " 'email Frank',\n",
       " 'h',\n",
       " 'l',\n",
       " 'l',\n",
       " 'meet with Zach',\n",
       " 'r']"
      ]
     },
     "execution_count": 40,
     "metadata": {},
     "output_type": "execute_result"
    }
   ],
   "source": [
    "tasks"
   ]
  },
  {
   "cell_type": "code",
   "execution_count": 46,
   "id": "7a531d7b",
   "metadata": {},
   "outputs": [
    {
     "data": {
      "text/plain": [
       "<function list.sort(*, key=None, reverse=False)>"
      ]
     },
     "execution_count": 46,
     "metadata": {},
     "output_type": "execute_result"
    }
   ],
   "source": [
    "tasks.sort"
   ]
  },
  {
   "cell_type": "code",
   "execution_count": 53,
   "id": "c1f983a4",
   "metadata": {},
   "outputs": [],
   "source": [
    "del tasks[1]"
   ]
  },
  {
   "cell_type": "code",
   "execution_count": 54,
   "id": "046e24f3",
   "metadata": {},
   "outputs": [
    {
     "data": {
      "text/plain": [
       "['S',\n",
       " 'a',\n",
       " 'a',\n",
       " 'c',\n",
       " 'call Sarah',\n",
       " 'email Frank',\n",
       " 'h',\n",
       " 'l',\n",
       " 'l',\n",
       " 'meet with Zach',\n",
       " 'r']"
      ]
     },
     "execution_count": 54,
     "metadata": {},
     "output_type": "execute_result"
    }
   ],
   "source": [
    "tasks"
   ]
  },
  {
   "cell_type": "code",
   "execution_count": 56,
   "id": "5696301b",
   "metadata": {},
   "outputs": [
    {
     "data": {
      "text/plain": [
       "['S',\n",
       " 'a',\n",
       " 'a',\n",
       " 'c',\n",
       " 'call Sarah',\n",
       " 'email Frank',\n",
       " 'h',\n",
       " 'l',\n",
       " 'l',\n",
       " 'meet with Zach',\n",
       " 'r']"
      ]
     },
     "execution_count": 56,
     "metadata": {},
     "output_type": "execute_result"
    }
   ],
   "source": [
    "tasks"
   ]
  },
  {
   "cell_type": "code",
   "execution_count": 57,
   "id": "d0503fab",
   "metadata": {},
   "outputs": [
    {
     "data": {
      "text/plain": [
       "'pending'"
      ]
     },
     "execution_count": 57,
     "metadata": {},
     "output_type": "execute_result"
    }
   ],
   "source": [
    "\"pending\""
   ]
  },
  {
   "cell_type": "markdown",
   "id": "fb55def7",
   "metadata": {},
   "source": [
    "20 Tuples"
   ]
  },
  {
   "cell_type": "code",
   "execution_count": 58,
   "id": "7392ae5a",
   "metadata": {},
   "outputs": [],
   "source": [
    "tasks = (\"email Frank\", \"call Sarah\", \"meet with Zach\")"
   ]
  },
  {
   "cell_type": "code",
   "execution_count": 59,
   "id": "8f414ce8",
   "metadata": {},
   "outputs": [
    {
     "data": {
      "text/plain": [
       "tuple"
      ]
     },
     "execution_count": 59,
     "metadata": {},
     "output_type": "execute_result"
    }
   ],
   "source": [
    "type(tasks)"
   ]
  },
  {
   "cell_type": "code",
   "execution_count": 61,
   "id": "9b5dc3a7",
   "metadata": {},
   "outputs": [
    {
     "data": {
      "text/plain": [
       "2"
      ]
     },
     "execution_count": 61,
     "metadata": {},
     "output_type": "execute_result"
    }
   ],
   "source": [
    "tasks.index(\"meet with Zach\")"
   ]
  },
  {
   "cell_type": "code",
   "execution_count": 62,
   "id": "eb25095e",
   "metadata": {},
   "outputs": [
    {
     "data": {
      "text/plain": [
       "1"
      ]
     },
     "execution_count": 62,
     "metadata": {},
     "output_type": "execute_result"
    }
   ],
   "source": [
    "tasks.count(\"meet with Zach\")"
   ]
  },
  {
   "cell_type": "code",
   "execution_count": 64,
   "id": "56ea4402",
   "metadata": {},
   "outputs": [
    {
     "data": {
      "text/plain": [
       "('email Frank', 'call Sarah', 'meet with Zach')"
      ]
     },
     "execution_count": 64,
     "metadata": {},
     "output_type": "execute_result"
    }
   ],
   "source": [
    "tasks"
   ]
  },
  {
   "cell_type": "code",
   "execution_count": 65,
   "id": "6cd05a66",
   "metadata": {},
   "outputs": [
    {
     "data": {
      "text/plain": [
       "tuple"
      ]
     },
     "execution_count": 65,
     "metadata": {},
     "output_type": "execute_result"
    }
   ],
   "source": [
    "type(tasks)"
   ]
  },
  {
   "cell_type": "code",
   "execution_count": null,
   "id": "f613b3d6",
   "metadata": {},
   "outputs": [],
   "source": []
  }
 ],
 "metadata": {
  "kernelspec": {
   "display_name": "Python 3 (ipykernel)",
   "language": "python",
   "name": "python3"
  },
  "language_info": {
   "codemirror_mode": {
    "name": "ipython",
    "version": 3
   },
   "file_extension": ".py",
   "mimetype": "text/x-python",
   "name": "python",
   "nbconvert_exporter": "python",
   "pygments_lexer": "ipython3",
   "version": "3.11.5"
  }
 },
 "nbformat": 4,
 "nbformat_minor": 5
}
