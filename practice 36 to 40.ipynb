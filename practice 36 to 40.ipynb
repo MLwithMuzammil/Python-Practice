{
 "cells": [
  {
   "cell_type": "code",
   "execution_count": 1,
   "id": "e495d8de",
   "metadata": {},
   "outputs": [],
   "source": [
    "customers = [\n",
    "    {\"customer id\": 0,\n",
    "     \"first name\":\"John\",\n",
    "     \"last name\": \"Ogden\",\n",
    "     \"address\": \"301 Arbor Rd.\",\n",
    "     \"discounts\": [\"standard\", \"volume\", \"loyalty\"],\n",
    "    },\n",
    "    {\"customer id\": 2,\n",
    "     \"first name\":\"Jill\",\n",
    "     \"last name\": \"Somers\",\n",
    "     \"address\": \"3 Main St.\",\n",
    "     \"discounts\":[]\n",
    "    },\n",
    "    {\n",
    "    \"customer id\": 1,\n",
    "    \"first name\":\"Ann\",\n",
    "    \"last name\": \"Sattermyer\",\n",
    "    \"address\": \"PO Box 1145\",\n",
    "    \"discounts\": [\"standard\"]\n",
    "}\n",
    "]"
   ]
  },
  {
   "cell_type": "code",
   "execution_count": 2,
   "id": "3b98f0f6",
   "metadata": {},
   "outputs": [
    {
     "data": {
      "text/plain": [
       "3"
      ]
     },
     "execution_count": 2,
     "metadata": {},
     "output_type": "execute_result"
    }
   ],
   "source": [
    "len(customers)"
   ]
  },
  {
   "cell_type": "code",
   "execution_count": 10,
   "id": "ce700343",
   "metadata": {},
   "outputs": [
    {
     "name": "stdout",
     "output_type": "stream",
     "text": [
      "customer at index 0 have discount = 3\n",
      "customer at index 1 have discount = 0\n",
      "customer at index 2 have discount = 1\n"
     ]
    }
   ],
   "source": [
    "for iterator in range(len(customers)):\n",
    "    print(f\"customer at index {iterator} have discount = {len(customers[iterator]['discounts'])}\")"
   ]
  },
  {
   "cell_type": "markdown",
   "id": "8f86768b",
   "metadata": {},
   "source": [
    "36\n",
    "How to append a new dictionary to a\n",
    "list of dictionaries & 37\n",
    "Creating a dictionary that contains lists"
   ]
  },
  {
   "cell_type": "code",
   "execution_count": 1,
   "id": "9463bc38",
   "metadata": {},
   "outputs": [
    {
     "name": "stdout",
     "output_type": "stream",
     "text": [
      "[{'customer id': 0, 'first name': 'John', 'last name': 'Ogden', 'address': '301 Arbor Rd.', 'discounts': ['standard', 'volume', 'loyalty']}, {'customer id': 2, 'first name': 'Jill', 'last name': 'Somers', 'address': '3 Main St.', 'discounts': []}, {'customer id': 1, 'first name': 'Ann', 'last name': 'Sattermyer', 'address': 'PO Box 1145', 'discounts': ['standard']}]\n"
     ]
    }
   ],
   "source": [
    "customers = [\n",
    "    {\"customer id\": 0,\n",
    "     \"first name\":\"John\",\n",
    "     \"last name\": \"Ogden\",\n",
    "     \"address\": \"301 Arbor Rd.\",\n",
    "     \"discounts\": [\"standard\", \"volume\", \"loyalty\"],\n",
    "    },\n",
    "    {\"customer id\": 2,\n",
    "     \"first name\":\"Jill\",\n",
    "     \"last name\": \"Somers\",\n",
    "     \"address\": \"3 Main St.\",\n",
    "     \"discounts\":[]\n",
    "    },\n",
    "    {\n",
    "    \"customer id\": 1,\n",
    "    \"first name\":\"Ann\",\n",
    "    \"last name\": \"Sattermyer\",\n",
    "    \"address\": \"PO Box 1145\",\n",
    "    \"discounts\": [\"standard\"]\n",
    "}\n",
    "]\n",
    "print(customers)"
   ]
  },
  {
   "cell_type": "code",
   "execution_count": 4,
   "id": "55141b94",
   "metadata": {},
   "outputs": [],
   "source": [
    "new_customer_id = len(customers)"
   ]
  },
  {
   "cell_type": "code",
   "execution_count": 8,
   "id": "8481a3d8",
   "metadata": {},
   "outputs": [],
   "source": [
    "new_dictionary = {\"customer id\": new_customer_id,\n",
    "                  \"first name\": \"muhammad\",\n",
    "                  \"last name\": \"muzammil\",\"address\": \"karachi\",\n",
    "}"
   ]
  },
  {
   "cell_type": "code",
   "execution_count": 9,
   "id": "b058f4e0",
   "metadata": {},
   "outputs": [
    {
     "data": {
      "text/plain": [
       "{'customer id': 3,\n",
       " 'first name': 'muhammad',\n",
       " 'last name': 'muzammil',\n",
       " 'address': 'karachi'}"
      ]
     },
     "execution_count": 9,
     "metadata": {},
     "output_type": "execute_result"
    }
   ],
   "source": [
    "new_dictionary"
   ]
  },
  {
   "cell_type": "code",
   "execution_count": 10,
   "id": "da24ee98",
   "metadata": {},
   "outputs": [],
   "source": [
    "customers.append(new_dictionary)"
   ]
  },
  {
   "cell_type": "code",
   "execution_count": 11,
   "id": "24f9bb14",
   "metadata": {},
   "outputs": [
    {
     "data": {
      "text/plain": [
       "[{'customer id': 0,\n",
       "  'first name': 'John',\n",
       "  'last name': 'Ogden',\n",
       "  'address': '301 Arbor Rd.',\n",
       "  'discounts': ['standard', 'volume', 'loyalty']},\n",
       " {'customer id': 2,\n",
       "  'first name': 'Jill',\n",
       "  'last name': 'Somers',\n",
       "  'address': '3 Main St.',\n",
       "  'discounts': []},\n",
       " {'customer id': 1,\n",
       "  'first name': 'Ann',\n",
       "  'last name': 'Sattermyer',\n",
       "  'address': 'PO Box 1145',\n",
       "  'discounts': ['standard']},\n",
       " {'customer id': 3,\n",
       "  'first name': 'muhammad',\n",
       "  'last name': 'muzammil',\n",
       "  'address': 'karachi'}]"
      ]
     },
     "execution_count": 11,
     "metadata": {},
     "output_type": "execute_result"
    }
   ],
   "source": [
    "customers"
   ]
  },
  {
   "cell_type": "markdown",
   "id": "d5aafcec",
   "metadata": {},
   "source": [
    "38\n",
    "How to get information out of a list\n",
    "within a dictionary"
   ]
  },
  {
   "cell_type": "code",
   "execution_count": 16,
   "id": "fec49072",
   "metadata": {},
   "outputs": [
    {
     "data": {
      "text/plain": [
       "'PO Box 1145'"
      ]
     },
     "execution_count": 16,
     "metadata": {},
     "output_type": "execute_result"
    }
   ],
   "source": [
    "customers[2][\"address\"]"
   ]
  },
  {
   "cell_type": "code",
   "execution_count": 15,
   "id": "726955c0",
   "metadata": {},
   "outputs": [
    {
     "data": {
      "text/plain": [
       "['standard']"
      ]
     },
     "execution_count": 15,
     "metadata": {},
     "output_type": "execute_result"
    }
   ],
   "source": [
    "(customers[2]['discounts'])"
   ]
  },
  {
   "cell_type": "code",
   "execution_count": 18,
   "id": "6d38777f",
   "metadata": {},
   "outputs": [],
   "source": [
    "customers = {0 : {\"first name\":\"John\",\n",
    "                  \"last name\": \"Ogden\",\n",
    "                  \"address\": \"301 Arbor Rd.\",},\n",
    "            1 : {\"first name\":\"Ali\",\n",
    "                  \"last name\": \"Raza\",\n",
    "                  \"address\": \"301 Arbor Rd.\",}}"
   ]
  },
  {
   "cell_type": "code",
   "execution_count": 19,
   "id": "237734b4",
   "metadata": {},
   "outputs": [
    {
     "data": {
      "text/plain": [
       "{0: {'first name': 'John', 'last name': 'Ogden', 'address': '301 Arbor Rd.'},\n",
       " 1: {'first name': 'Ali', 'last name': 'Raza', 'address': '301 Arbor Rd.'}}"
      ]
     },
     "execution_count": 19,
     "metadata": {},
     "output_type": "execute_result"
    }
   ],
   "source": [
    "customers"
   ]
  },
  {
   "cell_type": "code",
   "execution_count": 20,
   "id": "10449b6b",
   "metadata": {},
   "outputs": [
    {
     "data": {
      "text/plain": [
       "dict"
      ]
     },
     "execution_count": 20,
     "metadata": {},
     "output_type": "execute_result"
    }
   ],
   "source": [
    "type(customers)"
   ]
  },
  {
   "cell_type": "markdown",
   "id": "02fc2db9",
   "metadata": {},
   "source": [
    "40\n",
    "How to get information out of a\n",
    "dictionary within another dictionary"
   ]
  },
  {
   "cell_type": "code",
   "execution_count": 22,
   "id": "4c6b7bfb",
   "metadata": {},
   "outputs": [
    {
     "data": {
      "text/plain": [
       "{'first name': 'Ali', 'last name': 'Raza', 'address': '301 Arbor Rd.'}"
      ]
     },
     "execution_count": 22,
     "metadata": {},
     "output_type": "execute_result"
    }
   ],
   "source": [
    "customers[1]"
   ]
  },
  {
   "cell_type": "code",
   "execution_count": 26,
   "id": "e18af4ac",
   "metadata": {},
   "outputs": [
    {
     "data": {
      "text/plain": [
       "'Raza'"
      ]
     },
     "execution_count": 26,
     "metadata": {},
     "output_type": "execute_result"
    }
   ],
   "source": [
    "customers[1][\"last name\"]"
   ]
  },
  {
   "cell_type": "code",
   "execution_count": 27,
   "id": "88827923",
   "metadata": {},
   "outputs": [],
   "source": [
    "consumers = {'john' : {\"first name\":\"John\",\n",
    "                  \"last name\": \"Ogden\",\n",
    "                  \"address\": \"301 Arbor Rd.\",},\n",
    "            'Ali' : {\"first name\":\"Ali\",\n",
    "                  \"last name\": \"Raza\",\n",
    "                  \"address\": \"301 Arbor Rd.\",}}"
   ]
  },
  {
   "cell_type": "code",
   "execution_count": 29,
   "id": "4844da73",
   "metadata": {},
   "outputs": [
    {
     "data": {
      "text/plain": [
       "'Raza'"
      ]
     },
     "execution_count": 29,
     "metadata": {},
     "output_type": "execute_result"
    }
   ],
   "source": [
    "consumers['Ali'][\"last name\"]"
   ]
  },
  {
   "cell_type": "code",
   "execution_count": null,
   "id": "8f59b79f",
   "metadata": {},
   "outputs": [],
   "source": []
  }
 ],
 "metadata": {
  "kernelspec": {
   "display_name": "Python 3 (ipykernel)",
   "language": "python",
   "name": "python3"
  },
  "language_info": {
   "codemirror_mode": {
    "name": "ipython",
    "version": 3
   },
   "file_extension": ".py",
   "mimetype": "text/x-python",
   "name": "python",
   "nbconvert_exporter": "python",
   "pygments_lexer": "ipython3",
   "version": "3.11.5"
  }
 },
 "nbformat": 4,
 "nbformat_minor": 5
}
