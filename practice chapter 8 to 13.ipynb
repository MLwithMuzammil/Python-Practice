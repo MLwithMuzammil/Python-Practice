{
 "cells": [
  {
   "cell_type": "markdown",
   "id": "3ee7d8e5",
   "metadata": {},
   "source": [
    "if statements"
   ]
  },
  {
   "cell_type": "code",
   "execution_count": 1,
   "id": "7e1c33c8",
   "metadata": {},
   "outputs": [
    {
     "ename": "NameError",
     "evalue": "name 'species' is not defined",
     "output_type": "error",
     "traceback": [
      "\u001b[1;31m---------------------------------------------------------------------------\u001b[0m",
      "\u001b[1;31mNameError\u001b[0m                                 Traceback (most recent call last)",
      "Cell \u001b[1;32mIn[1], line 1\u001b[0m\n\u001b[1;32m----> 1\u001b[0m \u001b[38;5;28;01mif\u001b[39;00m species \u001b[38;5;241m==\u001b[39m \u001b[38;5;124m\"\u001b[39m\u001b[38;5;124mcat\u001b[39m\u001b[38;5;124m\"\u001b[39m:\n\u001b[0;32m      2\u001b[0m    \u001b[38;5;28mprint\u001b[39m(\u001b[38;5;124m\"\u001b[39m\u001b[38;5;124mYep, it\u001b[39m\u001b[38;5;124m'\u001b[39m\u001b[38;5;124ms cat.\u001b[39m\u001b[38;5;124m\"\u001b[39m)\n",
      "\u001b[1;31mNameError\u001b[0m: name 'species' is not defined"
     ]
    }
   ],
   "source": [
    " if species == \"cat\":\n",
    "    print(\"Yep, it's cat.\")"
   ]
  },
  {
   "cell_type": "code",
   "execution_count": 7,
   "id": "71f74b27",
   "metadata": {},
   "outputs": [
    {
     "name": "stdout",
     "output_type": "stream",
     "text": [
      "Yep, it's cat.\n"
     ]
    }
   ],
   "source": [
    "species = \"cat\"\n",
    "if species == \"cat\":\n",
    "    print(\"Yep, it's cat.\")"
   ]
  },
  {
   "cell_type": "code",
   "execution_count": 8,
   "id": "8f8167a1",
   "metadata": {},
   "outputs": [
    {
     "name": "stdout",
     "output_type": "stream",
     "text": [
      "Yep, it's cat.\n"
     ]
    }
   ],
   "source": [
    "species = \"cat\"\n",
    "if species == \"cat\":\n",
    "    status = \"ok\"\n",
    "    kingdom = \"animal\"\n",
    "    print(\"Yep, it's cat.\")"
   ]
  },
  {
   "cell_type": "code",
   "execution_count": 23,
   "id": "7297817c",
   "metadata": {},
   "outputs": [
    {
     "name": "stdout",
     "output_type": "stream",
     "text": [
      "Yep, it's cat.\n",
      "animal\n"
     ]
    }
   ],
   "source": [
    "species = \"cat\"\n",
    "status = \"ok\"\n",
    "kingdom = \"animal\"\n",
    "if species == \"cat\":\n",
    "    status == \"o\"\n",
    "    kingdom == \"animal\"\n",
    "    print(\"Yep, it's cat.\")\n",
    "    print(kingdom)"
   ]
  },
  {
   "cell_type": "code",
   "execution_count": 14,
   "id": "68f144fc",
   "metadata": {},
   "outputs": [
    {
     "name": "stdout",
     "output_type": "stream",
     "text": [
      "So far so good.\n",
      "Congratulations.\n",
      "All done\n"
     ]
    }
   ],
   "source": [
    "number_of_husbands = 1\n",
    "if number_of_husbands == 1:\n",
    "    print(\"So far so good.\")\n",
    "    print(\"Congratulations.\")\n",
    "    print(\"All done\")"
   ]
  },
  {
   "cell_type": "markdown",
   "id": "03c9cd89",
   "metadata": {},
   "source": [
    "Comparison operators (!=)"
   ]
  },
  {
   "cell_type": "code",
   "execution_count": 16,
   "id": "957d0c86",
   "metadata": {},
   "outputs": [
    {
     "name": "stdout",
     "output_type": "stream",
     "text": [
      "congratulations\n"
     ]
    }
   ],
   "source": [
    "your_ticket_number = 487208\n",
    "if your_ticket_number != 487208:\n",
    "    print(\"Better luck next time.\")\n",
    "else:\n",
    "    print(\"congratulations\")"
   ]
  },
  {
   "cell_type": "markdown",
   "id": "1e21b6c6",
   "metadata": {},
   "source": [
    "else and elif statements"
   ]
  },
  {
   "cell_type": "code",
   "execution_count": 17,
   "id": "bb30d218",
   "metadata": {},
   "outputs": [
    {
     "ename": "SyntaxError",
     "evalue": "invalid syntax (172853531.py, line 5)",
     "output_type": "error",
     "traceback": [
      "\u001b[1;36m  Cell \u001b[1;32mIn[17], line 5\u001b[1;36m\u001b[0m\n\u001b[1;33m    elif donut_price == \"low\":\u001b[0m\n\u001b[1;37m    ^\u001b[0m\n\u001b[1;31mSyntaxError\u001b[0m\u001b[1;31m:\u001b[0m invalid syntax\n"
     ]
    }
   ],
   "source": [
    "donut_condition = \"fresh\"\n",
    "donut_price = \"low\"\n",
    "if donut_condition == \"fresh\":\n",
    "    buy_score = 10\n",
    "    elif donut_price == \"low\":\n",
    "    buy_score = 5\n",
    "else:\n",
    "    buy_score = 0"
   ]
  },
  {
   "cell_type": "code",
   "execution_count": 24,
   "id": "a4be51af",
   "metadata": {},
   "outputs": [],
   "source": [
    "buy_score = 0\n",
    "donut_condition = \"fresh\"\n",
    "donut_price = \"low\"\n",
    "if donut_condition == \"fresh\":\n",
    "    buy_score += 10\n",
    "elif donut_price == \"low\":\n",
    "    buy_score += 5\n",
    "else:\n",
    "    buy_score = 0"
   ]
  },
  {
   "cell_type": "code",
   "execution_count": 22,
   "id": "412d2f99",
   "metadata": {},
   "outputs": [
    {
     "name": "stdout",
     "output_type": "stream",
     "text": [
      "Enter country of Girl: turkey\n",
      "Enter height of Girl: 5\n",
      "mehood is happy for country\n",
      "its fine for mehmood\n"
     ]
    }
   ],
   "source": [
    "country = input(\"Enter country of Girl: \")\n",
    "height = int(input(\"Enter height of Girl: \"))\n",
    "\n",
    "if country != \"pakistan\":\n",
    "    print(\"mehood is happy for country\")\n",
    "    if height <5:\n",
    "        print(\"mehmood is not happy for height\")\n",
    "    else:\n",
    "        print(\"its fine for mehmood\")\n",
    "else:\n",
    "    print:(\"mehmood is sad\")\n",
    "    "
   ]
  },
  {
   "cell_type": "code",
   "execution_count": 25,
   "id": "48f9c553",
   "metadata": {},
   "outputs": [
    {
     "data": {
      "text/plain": [
       "10"
      ]
     },
     "execution_count": 25,
     "metadata": {},
     "output_type": "execute_result"
    }
   ],
   "source": [
    "buy_score"
   ]
  },
  {
   "cell_type": "code",
   "execution_count": null,
   "id": "3583312a",
   "metadata": {},
   "outputs": [],
   "source": []
  }
 ],
 "metadata": {
  "kernelspec": {
   "display_name": "Python 3 (ipykernel)",
   "language": "python",
   "name": "python3"
  },
  "language_info": {
   "codemirror_mode": {
    "name": "ipython",
    "version": 3
   },
   "file_extension": ".py",
   "mimetype": "text/x-python",
   "name": "python",
   "nbconvert_exporter": "python",
   "pygments_lexer": "ipython3",
   "version": "3.11.5"
  }
 },
 "nbformat": 4,
 "nbformat_minor": 5
}
