{
 "cells": [
  {
   "cell_type": "markdown",
   "id": "79e7c6e6",
   "metadata": {},
   "source": [
    "MATHS EXPRESSSIONS"
   ]
  },
  {
   "cell_type": "code",
   "execution_count": 1,
   "id": "d01d710d",
   "metadata": {},
   "outputs": [],
   "source": [
    "age = 3"
   ]
  },
  {
   "cell_type": "code",
   "execution_count": 2,
   "id": "8b5ba099",
   "metadata": {},
   "outputs": [],
   "source": [
    "age += 6"
   ]
  },
  {
   "cell_type": "code",
   "execution_count": 3,
   "id": "653ae205",
   "metadata": {},
   "outputs": [
    {
     "name": "stdout",
     "output_type": "stream",
     "text": [
      "age\n"
     ]
    }
   ],
   "source": [
    "print(\"age\")"
   ]
  },
  {
   "cell_type": "code",
   "execution_count": 4,
   "id": "28673440",
   "metadata": {},
   "outputs": [
    {
     "name": "stdout",
     "output_type": "stream",
     "text": [
      "9\n"
     ]
    }
   ],
   "source": [
    "print(age)"
   ]
  },
  {
   "cell_type": "code",
   "execution_count": 5,
   "id": "22612a36",
   "metadata": {},
   "outputs": [],
   "source": [
    "age *= 3"
   ]
  },
  {
   "cell_type": "code",
   "execution_count": 6,
   "id": "21273bba",
   "metadata": {},
   "outputs": [
    {
     "name": "stdout",
     "output_type": "stream",
     "text": [
      "27\n"
     ]
    }
   ],
   "source": [
    "print(age)"
   ]
  },
  {
   "cell_type": "code",
   "execution_count": 7,
   "id": "9f3f4632",
   "metadata": {},
   "outputs": [],
   "source": [
    "total_cost = (1 + 3) * 4"
   ]
  },
  {
   "cell_type": "code",
   "execution_count": 8,
   "id": "7ce49e86",
   "metadata": {},
   "outputs": [
    {
     "name": "stdout",
     "output_type": "stream",
     "text": [
      "16\n"
     ]
    }
   ],
   "source": [
    "print(total_cost)"
   ]
  },
  {
   "cell_type": "markdown",
   "id": "d73965cd",
   "metadata": {},
   "source": [
    "Concatenating text strings"
   ]
  },
  {
   "cell_type": "code",
   "execution_count": 9,
   "id": "5b1c7308",
   "metadata": {},
   "outputs": [],
   "source": [
    "greeting = \"Hello\"\n",
    "addressee = \"World\""
   ]
  },
  {
   "cell_type": "code",
   "execution_count": 10,
   "id": "cb88e38e",
   "metadata": {},
   "outputs": [],
   "source": [
    "whole_greeting = greeting + addressee"
   ]
  },
  {
   "cell_type": "code",
   "execution_count": 11,
   "id": "17a699fd",
   "metadata": {},
   "outputs": [
    {
     "name": "stdout",
     "output_type": "stream",
     "text": [
      "HelloWorld\n"
     ]
    }
   ],
   "source": [
    "print(whole_greeting)"
   ]
  },
  {
   "cell_type": "code",
   "execution_count": 12,
   "id": "53187504",
   "metadata": {},
   "outputs": [],
   "source": [
    "greeting = \"Hello\"\n",
    "separators = \", \"\n",
    "addressee = \"World\"\n",
    "punc = \"!\"\n",
    "whole_greeting = greeting + separators + addressee + punc"
   ]
  },
  {
   "cell_type": "code",
   "execution_count": 13,
   "id": "46187027",
   "metadata": {},
   "outputs": [
    {
     "name": "stdout",
     "output_type": "stream",
     "text": [
      "Hello, World!\n"
     ]
    }
   ],
   "source": [
    "print(whole_greeting)"
   ]
  },
  {
   "cell_type": "code",
   "execution_count": 17,
   "id": "ee8772f3",
   "metadata": {},
   "outputs": [],
   "source": [
    "whole_greeting = (\"Hello\" + separators + \"World\" +\n",
    "punc)"
   ]
  },
  {
   "cell_type": "code",
   "execution_count": 15,
   "id": "43ebf349",
   "metadata": {},
   "outputs": [
    {
     "name": "stdout",
     "output_type": "stream",
     "text": [
      "Hello, World!\n"
     ]
    }
   ],
   "source": [
    "print(\"Hello, \" + \"World!\")"
   ]
  },
  {
   "cell_type": "code",
   "execution_count": 16,
   "id": "149c7220",
   "metadata": {},
   "outputs": [
    {
     "name": "stdout",
     "output_type": "stream",
     "text": [
      "Hello, World!\n"
     ]
    }
   ],
   "source": [
    "print(greeting + separators + addressee + punc)"
   ]
  },
  {
   "cell_type": "code",
   "execution_count": 18,
   "id": "a1b36ebb",
   "metadata": {},
   "outputs": [
    {
     "name": "stdout",
     "output_type": "stream",
     "text": [
      "Hello, World!\n"
     ]
    }
   ],
   "source": [
    "print(\"Hello\" + separators + \"World\" + punc)"
   ]
  },
  {
   "cell_type": "code",
   "execution_count": 22,
   "id": "9b35b537",
   "metadata": {},
   "outputs": [
    {
     "name": "stdout",
     "output_type": "stream",
     "text": [
      "Hello, World!\n"
     ]
    }
   ],
   "source": [
    "print(greeting + separators + addressee + punc)"
   ]
  },
  {
   "cell_type": "code",
   "execution_count": 23,
   "id": "f801de22",
   "metadata": {},
   "outputs": [
    {
     "ename": "TypeError",
     "evalue": "can only concatenate str (not \"int\") to str",
     "output_type": "error",
     "traceback": [
      "\u001b[1;31m---------------------------------------------------------------------------\u001b[0m",
      "\u001b[1;31mTypeError\u001b[0m                                 Traceback (most recent call last)",
      "Cell \u001b[1;32mIn[23], line 1\u001b[0m\n\u001b[1;32m----> 1\u001b[0m \u001b[38;5;28mprint\u001b[39m(\u001b[38;5;124m\"\u001b[39m\u001b[38;5;124mThe sum of 2 plus 2 is \u001b[39m\u001b[38;5;124m\"\u001b[39m \u001b[38;5;241m+\u001b[39m \u001b[38;5;241m4\u001b[39m)\n",
      "\u001b[1;31mTypeError\u001b[0m: can only concatenate str (not \"int\") to str"
     ]
    }
   ],
   "source": [
    "print(\"The sum of 2 plus 2 is \" + 4)"
   ]
  },
  {
   "cell_type": "code",
   "execution_count": 24,
   "id": "e655bf17",
   "metadata": {},
   "outputs": [
    {
     "name": "stdout",
     "output_type": "stream",
     "text": [
      "The sum of 2 plus 2 is 4\n"
     ]
    }
   ],
   "source": [
    "print(\"The sum of 2 plus 2 is \" + \"4\")\n"
   ]
  },
  {
   "cell_type": "code",
   "execution_count": null,
   "id": "798e9b5d",
   "metadata": {},
   "outputs": [],
   "source": []
  }
 ],
 "metadata": {
  "kernelspec": {
   "display_name": "Python 3 (ipykernel)",
   "language": "python",
   "name": "python3"
  },
  "language_info": {
   "codemirror_mode": {
    "name": "ipython",
    "version": 3
   },
   "file_extension": ".py",
   "mimetype": "text/x-python",
   "name": "python",
   "nbconvert_exporter": "python",
   "pygments_lexer": "ipython3",
   "version": "3.11.5"
  }
 },
 "nbformat": 4,
 "nbformat_minor": 5
}
