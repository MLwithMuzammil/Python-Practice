{
 "cells": [
  {
   "cell_type": "markdown",
   "id": "8f0bf488",
   "metadata": {},
   "source": [
    "21\n",
    "for loops\n"
   ]
  },
  {
   "cell_type": "code",
   "execution_count": 1,
   "id": "d25a821c",
   "metadata": {},
   "outputs": [],
   "source": [
    "cleanest_cities = [\"Cheyenne\", \"Santa Fe\", \"Tucson\",\n",
    "                   \"Great Falls\", \"Honolulu\"]"
   ]
  },
  {
   "cell_type": "code",
   "execution_count": 2,
   "id": "84d842ee",
   "metadata": {},
   "outputs": [
    {
     "data": {
      "text/plain": [
       "['Cheyenne', 'Santa Fe', 'Tucson', 'Great Falls', 'Honolulu']"
      ]
     },
     "execution_count": 2,
     "metadata": {},
     "output_type": "execute_result"
    }
   ],
   "source": [
    "cleanest_cities"
   ]
  },
  {
   "cell_type": "code",
   "execution_count": 17,
   "id": "9a3f665b",
   "metadata": {},
   "outputs": [
    {
     "name": "stdout",
     "output_type": "stream",
     "text": [
      "enter the name of city: Santa Fe\n",
      "its not a clean city\n",
      "its a clean city\n",
      "its not a clean city\n",
      "its not a clean city\n",
      "its not a clean city\n"
     ]
    }
   ],
   "source": [
    "city_to_check = input(\"enter the name of city: \")\n",
    "\n",
    "for a_clean_city in cleanest_cities:\n",
    "    if city_to_check == a_clean_city:\n",
    "        print(\"its a clean city\")\n",
    "        continue\n",
    "    else:\n",
    "        print(\"its not a clean city\")"
   ]
  },
  {
   "cell_type": "code",
   "execution_count": 18,
   "id": "8e6b9437",
   "metadata": {},
   "outputs": [
    {
     "name": "stdout",
     "output_type": "stream",
     "text": [
      "enter the name of city: Santa Fe\n",
      "its not a clean city\n",
      "its a clean city\n"
     ]
    }
   ],
   "source": [
    "city_to_check = input(\"enter the name of city: \")\n",
    "\n",
    "for a_clean_city in cleanest_cities:\n",
    "    if city_to_check == a_clean_city:\n",
    "        print(\"its a clean city\")\n",
    "        break\n",
    "    else:\n",
    "        print(\"its not a clean city\")"
   ]
  },
  {
   "cell_type": "code",
   "execution_count": 19,
   "id": "cc48e162",
   "metadata": {},
   "outputs": [
    {
     "name": "stdout",
     "output_type": "stream",
     "text": [
      "enter the name of city: pakistan\n",
      "its not a clean city\n"
     ]
    }
   ],
   "source": [
    "city_to_check = input(\"enter the name of city: \")\n",
    "\n",
    "for a_clean_city in cleanest_cities:\n",
    "    if city_to_check == a_clean_city:\n",
    "        print(\"its a clean city\")\n",
    "        continue\n",
    "else:\n",
    "    print(\"its not a clean city\")"
   ]
  },
  {
   "cell_type": "markdown",
   "id": "dd356a2b",
   "metadata": {},
   "source": [
    "22\n",
    "for loops nested"
   ]
  },
  {
   "cell_type": "code",
   "execution_count": 22,
   "id": "ff84c7a6",
   "metadata": {},
   "outputs": [],
   "source": [
    "first_names = [\"BlueRay \", \"Upchuck \", \"Lojack \",\n",
    "               \"Gizmo \", \"Do-Rag \"]\n",
    "last_names = [\"Zzz\", \"Burp\", \"Dogbone\", \"Droop\"]\n",
    "full_names = []\n"
   ]
  },
  {
   "cell_type": "code",
   "execution_count": 24,
   "id": "1a882fd6",
   "metadata": {},
   "outputs": [],
   "source": [
    "for a_first_name in first_names:\n",
    "    for a_last_name in last_names:\n",
    "        full_names.append(a_first_name + \" \" +a_last_name)"
   ]
  },
  {
   "cell_type": "code",
   "execution_count": 25,
   "id": "f324b1db",
   "metadata": {},
   "outputs": [
    {
     "data": {
      "text/plain": [
       "['BlueRay  Zzz',\n",
       " 'BlueRay  Burp',\n",
       " 'BlueRay  Dogbone',\n",
       " 'BlueRay  Droop',\n",
       " 'Upchuck  Zzz',\n",
       " 'Upchuck  Burp',\n",
       " 'Upchuck  Dogbone',\n",
       " 'Upchuck  Droop',\n",
       " 'Lojack  Zzz',\n",
       " 'Lojack  Burp',\n",
       " 'Lojack  Dogbone',\n",
       " 'Lojack  Droop',\n",
       " 'Gizmo  Zzz',\n",
       " 'Gizmo  Burp',\n",
       " 'Gizmo  Dogbone',\n",
       " 'Gizmo  Droop',\n",
       " 'Do-Rag  Zzz',\n",
       " 'Do-Rag  Burp',\n",
       " 'Do-Rag  Dogbone',\n",
       " 'Do-Rag  Droop']"
      ]
     },
     "execution_count": 25,
     "metadata": {},
     "output_type": "execute_result"
    }
   ],
   "source": [
    "full_names # first get 1 from 1 loop then goto 2 loop "
   ]
  },
  {
   "cell_type": "markdown",
   "id": "0326c50d",
   "metadata": {},
   "source": [
    "23\n",
    "Getting information from the user and\n",
    "converting strings and numbers"
   ]
  },
  {
   "cell_type": "markdown",
   "id": "0f3ed017",
   "metadata": {},
   "source": [
    "24\n",
    "Changing case"
   ]
  },
  {
   "cell_type": "code",
   "execution_count": 26,
   "id": "f3cad2c4",
   "metadata": {},
   "outputs": [],
   "source": [
    "list1 = [\"pak\", \"eng\", \"Nz\"]"
   ]
  },
  {
   "cell_type": "code",
   "execution_count": 27,
   "id": "e476cde4",
   "metadata": {},
   "outputs": [
    {
     "data": {
      "text/plain": [
       "['pak', 'eng', 'Nz']"
      ]
     },
     "execution_count": 27,
     "metadata": {},
     "output_type": "execute_result"
    }
   ],
   "source": [
    "list1"
   ]
  },
  {
   "cell_type": "code",
   "execution_count": 29,
   "id": "5841e39f",
   "metadata": {},
   "outputs": [
    {
     "data": {
      "text/plain": [
       "'Pakistan'"
      ]
     },
     "execution_count": 29,
     "metadata": {},
     "output_type": "execute_result"
    }
   ],
   "source": [
    "\"pakistan\".capitalize()"
   ]
  },
  {
   "cell_type": "code",
   "execution_count": 30,
   "id": "bb068062",
   "metadata": {},
   "outputs": [
    {
     "data": {
      "text/plain": [
       "'pakistan'"
      ]
     },
     "execution_count": 30,
     "metadata": {},
     "output_type": "execute_result"
    }
   ],
   "source": [
    "\"pakistan\".casefold()"
   ]
  },
  {
   "cell_type": "code",
   "execution_count": 35,
   "id": "4744eb38",
   "metadata": {},
   "outputs": [
    {
     "data": {
      "text/plain": [
       "2"
      ]
     },
     "execution_count": 35,
     "metadata": {},
     "output_type": "execute_result"
    }
   ],
   "source": [
    "\"pakistan\".count(\"a\")"
   ]
  },
  {
   "cell_type": "code",
   "execution_count": 38,
   "id": "079ace9b",
   "metadata": {},
   "outputs": [
    {
     "data": {
      "text/plain": [
       "b'pakistan'"
      ]
     },
     "execution_count": 38,
     "metadata": {},
     "output_type": "execute_result"
    }
   ],
   "source": [
    "\"pakistan\".encode()"
   ]
  },
  {
   "cell_type": "code",
   "execution_count": 39,
   "id": "d00a07ce",
   "metadata": {},
   "outputs": [
    {
     "data": {
      "text/plain": [
       "'Pakistan'"
      ]
     },
     "execution_count": 39,
     "metadata": {},
     "output_type": "execute_result"
    }
   ],
   "source": [
    "\"pakistan\".title()"
   ]
  },
  {
   "cell_type": "code",
   "execution_count": 40,
   "id": "c6f0d422",
   "metadata": {},
   "outputs": [
    {
     "data": {
      "text/plain": [
       "'PAKISTAN'"
      ]
     },
     "execution_count": 40,
     "metadata": {},
     "output_type": "execute_result"
    }
   ],
   "source": [
    "\"pakistan\".upper()"
   ]
  },
  {
   "cell_type": "code",
   "execution_count": 41,
   "id": "5db74597",
   "metadata": {},
   "outputs": [
    {
     "data": {
      "text/plain": [
       "'pakistan'"
      ]
     },
     "execution_count": 41,
     "metadata": {},
     "output_type": "execute_result"
    }
   ],
   "source": [
    "\"pakistan\".lower()"
   ]
  },
  {
   "cell_type": "markdown",
   "id": "8988fbd3",
   "metadata": {},
   "source": [
    "25\n",
    "Dictionaries: What they are"
   ]
  },
  {
   "cell_type": "markdown",
   "id": "d81f00eb",
   "metadata": {},
   "source": [
    "26\n",
    "Dictionaries: How to code one"
   ]
  },
  {
   "cell_type": "code",
   "execution_count": 42,
   "id": "0ab1ee1e",
   "metadata": {},
   "outputs": [],
   "source": [
    "idcard = {\"first name\": \"muhammad\", \n",
    "          \"last name\": \"muzammil\", \n",
    "          \"address\": \"saddar\", \n",
    "          \"age\": 21}# first name(key) muhammad(value)"
   ]
  },
  {
   "cell_type": "code",
   "execution_count": 43,
   "id": "31040b6c",
   "metadata": {},
   "outputs": [
    {
     "data": {
      "text/plain": [
       "{'first name': 'muhammad',\n",
       " 'last name': 'muzammil',\n",
       " 'address': 'saddar',\n",
       " 'age': 21}"
      ]
     },
     "execution_count": 43,
     "metadata": {},
     "output_type": "execute_result"
    }
   ],
   "source": [
    "idcard"
   ]
  },
  {
   "cell_type": "markdown",
   "id": "5b5eed64",
   "metadata": {},
   "source": [
    "27\n",
    "Dictionaries: How to pick information\n",
    "out of them"
   ]
  },
  {
   "cell_type": "code",
   "execution_count": 44,
   "id": "99336828",
   "metadata": {},
   "outputs": [
    {
     "data": {
      "text/plain": [
       "{'first name': 'muhammad',\n",
       " 'last name': 'muzammil',\n",
       " 'address': 'saddar',\n",
       " 'age': 21}"
      ]
     },
     "execution_count": 44,
     "metadata": {},
     "output_type": "execute_result"
    }
   ],
   "source": [
    "idcard"
   ]
  },
  {
   "cell_type": "code",
   "execution_count": 45,
   "id": "d67998f4",
   "metadata": {},
   "outputs": [
    {
     "data": {
      "text/plain": [
       "'saddar'"
      ]
     },
     "execution_count": 45,
     "metadata": {},
     "output_type": "execute_result"
    }
   ],
   "source": [
    "idcard[\"address\"]"
   ]
  },
  {
   "cell_type": "code",
   "execution_count": 46,
   "id": "7d74cc9e",
   "metadata": {},
   "outputs": [
    {
     "data": {
      "text/plain": [
       "21"
      ]
     },
     "execution_count": 46,
     "metadata": {},
     "output_type": "execute_result"
    }
   ],
   "source": [
    "idcard[\"age\"]"
   ]
  },
  {
   "cell_type": "markdown",
   "id": "a0efdd99",
   "metadata": {},
   "source": [
    "28\n",
    "Dictionaries: The versatility of keys and\n",
    "values"
   ]
  },
  {
   "cell_type": "code",
   "execution_count": 47,
   "id": "e75606b2",
   "metadata": {},
   "outputs": [],
   "source": [
    "rankings = {5: \"Finland\", 2: \"Norway\", 3: \"Sweden\",\n",
    "            7: \"Iceland\"}"
   ]
  },
  {
   "cell_type": "code",
   "execution_count": 48,
   "id": "e3ba48b6",
   "metadata": {},
   "outputs": [
    {
     "data": {
      "text/plain": [
       "{5: 'Finland', 2: 'Norway', 3: 'Sweden', 7: 'Iceland'}"
      ]
     },
     "execution_count": 48,
     "metadata": {},
     "output_type": "execute_result"
    }
   ],
   "source": [
    "rankings"
   ]
  },
  {
   "cell_type": "code",
   "execution_count": 50,
   "id": "6b9c5f28",
   "metadata": {},
   "outputs": [
    {
     "data": {
      "text/plain": [
       "'Norway'"
      ]
     },
     "execution_count": 50,
     "metadata": {},
     "output_type": "execute_result"
    }
   ],
   "source": [
    "rankings[2]"
   ]
  },
  {
   "cell_type": "code",
   "execution_count": 51,
   "id": "2a843f7c",
   "metadata": {},
   "outputs": [],
   "source": [
    "country_ranks_so_far = {\"Finland\": 5, \"Norway\": 2, \n",
    "                        \"Sweden\": 3, \"Iceland\": 7}\n",
    "\n",
    "                        "
   ]
  },
  {
   "cell_type": "code",
   "execution_count": 52,
   "id": "dec6a55e",
   "metadata": {},
   "outputs": [
    {
     "data": {
      "text/plain": [
       "{'Finland': 5, 'Norway': 2, 'Sweden': 3, 'Iceland': 7}"
      ]
     },
     "execution_count": 52,
     "metadata": {},
     "output_type": "execute_result"
    }
   ],
   "source": [
    "country_ranks_so_far"
   ]
  },
  {
   "cell_type": "code",
   "execution_count": 54,
   "id": "c2d62a2a",
   "metadata": {},
   "outputs": [
    {
     "data": {
      "text/plain": [
       "3"
      ]
     },
     "execution_count": 54,
     "metadata": {},
     "output_type": "execute_result"
    }
   ],
   "source": [
    "country_ranks_so_far[\"Sweden\"]"
   ]
  },
  {
   "cell_type": "markdown",
   "id": "3629e823",
   "metadata": {},
   "source": [
    "29\n",
    "Dictionaries: Adding items\n"
   ]
  },
  {
   "cell_type": "code",
   "execution_count": 55,
   "id": "ac7577bf",
   "metadata": {},
   "outputs": [
    {
     "data": {
      "text/plain": [
       "{'first name': 'muhammad',\n",
       " 'last name': 'muzammil',\n",
       " 'address': 'saddar',\n",
       " 'age': 21}"
      ]
     },
     "execution_count": 55,
     "metadata": {},
     "output_type": "execute_result"
    }
   ],
   "source": [
    "idcard"
   ]
  },
  {
   "cell_type": "code",
   "execution_count": 56,
   "id": "62becf7d",
   "metadata": {},
   "outputs": [],
   "source": [
    "idcard[\"city\"] = \"karachi\"# for adding"
   ]
  },
  {
   "cell_type": "code",
   "execution_count": 57,
   "id": "d6316772",
   "metadata": {},
   "outputs": [
    {
     "data": {
      "text/plain": [
       "{'first name': 'muhammad',\n",
       " 'last name': 'muzammil',\n",
       " 'address': 'saddar',\n",
       " 'age': 21,\n",
       " 'city': 'karachi'}"
      ]
     },
     "execution_count": 57,
     "metadata": {},
     "output_type": "execute_result"
    }
   ],
   "source": [
    "idcard"
   ]
  },
  {
   "cell_type": "code",
   "execution_count": 60,
   "id": "276c8ff5",
   "metadata": {},
   "outputs": [
    {
     "data": {
      "text/plain": [
       "'muhammad'"
      ]
     },
     "execution_count": 60,
     "metadata": {},
     "output_type": "execute_result"
    }
   ],
   "source": [
    "idcard[\"first name\"]"
   ]
  },
  {
   "cell_type": "code",
   "execution_count": 62,
   "id": "244935e7",
   "metadata": {},
   "outputs": [
    {
     "data": {
      "text/plain": [
       "'karachi'"
      ]
     },
     "execution_count": 62,
     "metadata": {},
     "output_type": "execute_result"
    }
   ],
   "source": [
    "idcard[\"city\"]"
   ]
  },
  {
   "cell_type": "markdown",
   "id": "35939b64",
   "metadata": {},
   "source": [
    "30\n",
    "Dictionaries: Removing and changing\n",
    "items"
   ]
  },
  {
   "cell_type": "code",
   "execution_count": 63,
   "id": "458dd628",
   "metadata": {},
   "outputs": [
    {
     "data": {
      "text/plain": [
       "{'first name': 'muhammad',\n",
       " 'last name': 'muzammil',\n",
       " 'address': 'saddar',\n",
       " 'age': 21,\n",
       " 'city': 'karachi'}"
      ]
     },
     "execution_count": 63,
     "metadata": {},
     "output_type": "execute_result"
    }
   ],
   "source": [
    "idcard"
   ]
  },
  {
   "cell_type": "code",
   "execution_count": 64,
   "id": "2245bb64",
   "metadata": {},
   "outputs": [],
   "source": [
    "del idcard[\"age\"]# for deleting"
   ]
  },
  {
   "cell_type": "code",
   "execution_count": 65,
   "id": "0fa21a6e",
   "metadata": {},
   "outputs": [
    {
     "data": {
      "text/plain": [
       "{'first name': 'muhammad',\n",
       " 'last name': 'muzammil',\n",
       " 'address': 'saddar',\n",
       " 'city': 'karachi'}"
      ]
     },
     "execution_count": 65,
     "metadata": {},
     "output_type": "execute_result"
    }
   ],
   "source": [
    "idcard"
   ]
  },
  {
   "cell_type": "code",
   "execution_count": 66,
   "id": "c80d1926",
   "metadata": {},
   "outputs": [],
   "source": [
    "idcard[\"city\"] = \"Madinah\""
   ]
  },
  {
   "cell_type": "code",
   "execution_count": 67,
   "id": "5cda469e",
   "metadata": {},
   "outputs": [
    {
     "data": {
      "text/plain": [
       "{'first name': 'muhammad',\n",
       " 'last name': 'muzammil',\n",
       " 'address': 'saddar',\n",
       " 'city': 'Madinah'}"
      ]
     },
     "execution_count": 67,
     "metadata": {},
     "output_type": "execute_result"
    }
   ],
   "source": [
    "idcard"
   ]
  },
  {
   "cell_type": "code",
   "execution_count": null,
   "id": "898510f2",
   "metadata": {},
   "outputs": [],
   "source": []
  }
 ],
 "metadata": {
  "kernelspec": {
   "display_name": "Python 3 (ipykernel)",
   "language": "python",
   "name": "python3"
  },
  "language_info": {
   "codemirror_mode": {
    "name": "ipython",
    "version": 3
   },
   "file_extension": ".py",
   "mimetype": "text/x-python",
   "name": "python",
   "nbconvert_exporter": "python",
   "pygments_lexer": "ipython3",
   "version": "3.11.5"
  }
 },
 "nbformat": 4,
 "nbformat_minor": 5
}
